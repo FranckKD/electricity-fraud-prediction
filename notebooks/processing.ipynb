{
 "cells": [
  {
   "cell_type": "code",
   "execution_count": 1,
   "id": "d0b69139",
   "metadata": {},
   "outputs": [],
   "source": [
    "import pandas as pd\n",
    "import matplotlib.pyplot as plt\n",
    "import seaborn as sns"
   ]
  },
  {
   "cell_type": "code",
   "execution_count": 2,
   "id": "bf5fccce",
   "metadata": {},
   "outputs": [
    {
     "name": "stderr",
     "output_type": "stream",
     "text": [
      "C:\\Users\\djidj\\AppData\\Local\\Temp\\ipykernel_34348\\3381013910.py:2: DtypeWarning: Columns (4) have mixed types. Specify dtype option on import or set low_memory=False.\n",
      "  df_transactions_train = pd.read_csv('../data/raw/invoice_train.csv')\n"
     ]
    }
   ],
   "source": [
    "df_client_train = pd.read_csv('../data/raw/client_train.csv')\n",
    "df_transactions_train = pd.read_csv('../data/raw/invoice_train.csv')\n",
    "df_client_test = pd.read_csv('../data/raw/client_test.csv')\n",
    "df_transactions_test = pd.read_csv('../data/raw/invoice_test.csv')"
   ]
  },
  {
   "cell_type": "code",
   "execution_count": 3,
   "id": "5172001d",
   "metadata": {},
   "outputs": [],
   "source": [
    "df_client_train1 = df_client_train.copy()\n",
    "df_transactions_train1 = df_transactions_train.copy()"
   ]
  },
  {
   "cell_type": "code",
   "execution_count": 4,
   "id": "2288cb21",
   "metadata": {},
   "outputs": [],
   "source": [
    "df_transactions_train_filtered = df_transactions_train1[df_transactions_train1['counter_type'] == 'ELEC']\n",
    "df_transactions_train_v1 = df_transactions_train_filtered.iloc[:,:-1]\n",
    "df_transactions_test_filtered = df_transactions_test[df_transactions_test['counter_type'] == 'ELEC']\n",
    "df_transactions_test_v1 = df_transactions_test_filtered.iloc[:,:-1]"
   ]
  },
  {
   "cell_type": "code",
   "execution_count": 5,
   "id": "ad0ac1bd",
   "metadata": {},
   "outputs": [],
   "source": [
    "def deplacer_colonnes(dfs, col_names, pos):\n",
    "    if not isinstance(dfs, list):\n",
    "        dfs = [dfs]\n",
    "        single_input = True\n",
    "    else:\n",
    "        single_input = False\n",
    "    \n",
    "    if isinstance(col_names, str):\n",
    "        col_names = [col_names]\n",
    "    \n",
    "    if isinstance(pos, int):\n",
    "        pos = [pos]\n",
    "    \n",
    "    if len(col_names) != len(pos):\n",
    "        raise ValueError(\"La liste des colonnes et la liste des positions doivent avoir la même longueur.\")\n",
    "    \n",
    "    dfs_modifies = []\n",
    "    \n",
    "    for df in dfs:\n",
    "        df_copy = df.copy()\n",
    "        temp_cols = {col:df_copy.pop(col) for col in col_names}\n",
    "        for col, ps in zip(col_names, pos):\n",
    "            df_copy.insert(ps, col, temp_cols[col])\n",
    "        dfs_modifies.append(df_copy)\n",
    "    return dfs_modifies[0] if single_input else dfs_modifies\n",
    "\n",
    "df_client_train1 = deplacer_colonnes(df_client_train1, 'client_id',0)"
   ]
  },
  {
   "cell_type": "code",
   "execution_count": 6,
   "id": "38a47e70",
   "metadata": {},
   "outputs": [
    {
     "data": {
      "text/plain": [
       "client_id        0\n",
       "disrict          0\n",
       "client_catg      0\n",
       "region           0\n",
       "creation_date    0\n",
       "target           0\n",
       "dtype: int64"
      ]
     },
     "execution_count": 6,
     "metadata": {},
     "output_type": "execute_result"
    }
   ],
   "source": [
    "df_client_train1.isnull().sum()"
   ]
  },
  {
   "cell_type": "code",
   "execution_count": 7,
   "id": "eeb306f8",
   "metadata": {},
   "outputs": [
    {
     "data": {
      "text/plain": [
       "client_id               0\n",
       "invoice_date            0\n",
       "tarif_type              0\n",
       "counter_number          0\n",
       "counter_statue          0\n",
       "counter_code            0\n",
       "reading_remarque        0\n",
       "counter_coefficient     0\n",
       "consommation_level_1    0\n",
       "consommation_level_2    0\n",
       "consommation_level_3    0\n",
       "consommation_level_4    0\n",
       "old_index               0\n",
       "new_index               0\n",
       "months_number           0\n",
       "dtype: int64"
      ]
     },
     "execution_count": 7,
     "metadata": {},
     "output_type": "execute_result"
    }
   ],
   "source": [
    "df_transactions_train_v1.isnull().sum()"
   ]
  },
  {
   "cell_type": "code",
   "execution_count": 8,
   "id": "e7c942e1",
   "metadata": {},
   "outputs": [
    {
     "name": "stdout",
     "output_type": "stream",
     "text": [
      "<class 'pandas.core.frame.DataFrame'>\n",
      "RangeIndex: 135493 entries, 0 to 135492\n",
      "Data columns (total 6 columns):\n",
      " #   Column         Non-Null Count   Dtype  \n",
      "---  ------         --------------   -----  \n",
      " 0   client_id      135493 non-null  object \n",
      " 1   disrict        135493 non-null  int64  \n",
      " 2   client_catg    135493 non-null  int64  \n",
      " 3   region         135493 non-null  int64  \n",
      " 4   creation_date  135493 non-null  object \n",
      " 5   target         135493 non-null  float64\n",
      "dtypes: float64(1), int64(3), object(2)\n",
      "memory usage: 6.2+ MB\n"
     ]
    }
   ],
   "source": [
    "df_client_train1.info()"
   ]
  },
  {
   "cell_type": "code",
   "execution_count": 9,
   "id": "cf3eb0f5",
   "metadata": {},
   "outputs": [
    {
     "name": "stdout",
     "output_type": "stream",
     "text": [
      "<class 'pandas.core.frame.DataFrame'>\n",
      "Index: 3079406 entries, 0 to 4476748\n",
      "Data columns (total 15 columns):\n",
      " #   Column                Dtype \n",
      "---  ------                ----- \n",
      " 0   client_id             object\n",
      " 1   invoice_date          object\n",
      " 2   tarif_type            int64 \n",
      " 3   counter_number        int64 \n",
      " 4   counter_statue        object\n",
      " 5   counter_code          int64 \n",
      " 6   reading_remarque      int64 \n",
      " 7   counter_coefficient   int64 \n",
      " 8   consommation_level_1  int64 \n",
      " 9   consommation_level_2  int64 \n",
      " 10  consommation_level_3  int64 \n",
      " 11  consommation_level_4  int64 \n",
      " 12  old_index             int64 \n",
      " 13  new_index             int64 \n",
      " 14  months_number         int64 \n",
      "dtypes: int64(12), object(3)\n",
      "memory usage: 375.9+ MB\n"
     ]
    }
   ],
   "source": [
    "df_transactions_train_v1.info()"
   ]
  },
  {
   "cell_type": "code",
   "execution_count": 10,
   "id": "9c991c5b",
   "metadata": {},
   "outputs": [],
   "source": [
    "df_client_train1.rename(columns={'disrict': 'district'}, inplace=True)"
   ]
  },
  {
   "cell_type": "code",
   "execution_count": 11,
   "id": "7d807d68",
   "metadata": {},
   "outputs": [
    {
     "name": "stderr",
     "output_type": "stream",
     "text": [
      "C:\\Users\\djidj\\AppData\\Local\\Temp\\ipykernel_34348\\988659676.py:4: SettingWithCopyWarning: \n",
      "A value is trying to be set on a copy of a slice from a DataFrame.\n",
      "Try using .loc[row_indexer,col_indexer] = value instead\n",
      "\n",
      "See the caveats in the documentation: https://pandas.pydata.org/pandas-docs/stable/user_guide/indexing.html#returning-a-view-versus-a-copy\n",
      "  df_transactions_test_filtered['invoice_date'] = pd.to_datetime(df_transactions_test_filtered['invoice_date'])\n"
     ]
    }
   ],
   "source": [
    "df_client_train1['creation_date'] = pd.to_datetime(df_client_train1['creation_date'], format= 'mixed', dayfirst=True)\n",
    "df_transactions_train_v1['invoice_date'] = pd.to_datetime(df_transactions_train_v1['invoice_date'])\n",
    "df_client_test['creation_date'] = pd.to_datetime(df_client_test['creation_date'], format= 'mixed', dayfirst=True)\n",
    "df_transactions_test_filtered['invoice_date'] = pd.to_datetime(df_transactions_test_filtered['invoice_date'])"
   ]
  },
  {
   "cell_type": "code",
   "execution_count": 12,
   "id": "9d677882",
   "metadata": {},
   "outputs": [
    {
     "name": "stderr",
     "output_type": "stream",
     "text": [
      "C:\\Users\\djidj\\AppData\\Local\\Temp\\ipykernel_34348\\442786245.py:3: SettingWithCopyWarning: \n",
      "A value is trying to be set on a copy of a slice from a DataFrame.\n",
      "Try using .loc[row_indexer,col_indexer] = value instead\n",
      "\n",
      "See the caveats in the documentation: https://pandas.pydata.org/pandas-docs/stable/user_guide/indexing.html#returning-a-view-versus-a-copy\n",
      "  df[col] = df[col].astype('category')\n"
     ]
    }
   ],
   "source": [
    "def convert_to_category(df, col_names):\n",
    "    for col in col_names:\n",
    "        df[col] = df[col].astype('category')\n",
    "    return df\n",
    "\n",
    "df_client_train1 = convert_to_category(df_client_train1, ['district','client_catg','region'])\n",
    "df_client_test = convert_to_category(df_client_test, ['disrict','client_catg','region'])\n",
    "df_transactions_train_v1 = convert_to_category(df_transactions_train_v1, ['tarif_type','counter_statue', 'counter_coefficient'])\n",
    "df_transactions_test_filtered = convert_to_category(df_transactions_test_filtered, ['tarif_type','counter_statue', 'counter_coefficient'])"
   ]
  },
  {
   "cell_type": "code",
   "execution_count": 13,
   "id": "6b9d376c",
   "metadata": {},
   "outputs": [
    {
     "data": {
      "text/plain": [
       "counter_statue\n",
       "0         3000291\n",
       "1           40124\n",
       "0           21845\n",
       "5           14009\n",
       "4            2471\n",
       "1             299\n",
       "3             187\n",
       "5             101\n",
       "4              23\n",
       "46             14\n",
       "A              13\n",
       "618            12\n",
       "2              10\n",
       "769             6\n",
       "269375          1\n",
       "Name: count, dtype: int64"
      ]
     },
     "execution_count": 13,
     "metadata": {},
     "output_type": "execute_result"
    }
   ],
   "source": [
    "df_transactions_train_v1['counter_statue'].value_counts()"
   ]
  },
  {
   "cell_type": "code",
   "execution_count": 14,
   "id": "5763ec1f",
   "metadata": {},
   "outputs": [],
   "source": [
    "df_transactions_train_v1 = df_transactions_train_v1[~((df_transactions_train_v1['counter_statue'] =='A') & (df_transactions_train_v1['counter_statue'].isin([46, 618, 269375, 769])))]"
   ]
  },
  {
   "cell_type": "code",
   "execution_count": 15,
   "id": "2a05292b",
   "metadata": {},
   "outputs": [
    {
     "data": {
      "text/plain": [
       "reading_remarque\n",
       "6      1494098\n",
       "9      1054605\n",
       "8       530046\n",
       "7          624\n",
       "203         15\n",
       "413         12\n",
       "207          6\n",
       "Name: count, dtype: int64"
      ]
     },
     "execution_count": 15,
     "metadata": {},
     "output_type": "execute_result"
    }
   ],
   "source": [
    "df_transactions_train_v1['reading_remarque'].value_counts()"
   ]
  },
  {
   "cell_type": "code",
   "execution_count": 16,
   "id": "a295c0e5",
   "metadata": {},
   "outputs": [],
   "source": [
    "df_transactions_train_v1 = df_transactions_train_v1[~(df_transactions_train_v1['reading_remarque'] >=11)]"
   ]
  },
  {
   "cell_type": "code",
   "execution_count": 17,
   "id": "b94821ab",
   "metadata": {},
   "outputs": [
    {
     "data": {
      "text/plain": [
       "counter_coefficient\n",
       "1     3077770\n",
       "2         886\n",
       "3         321\n",
       "40        197\n",
       "30        137\n",
       "0          43\n",
       "4          10\n",
       "10          4\n",
       "20          3\n",
       "50          2\n",
       "9           0\n",
       "6           0\n",
       "8           0\n",
       "Name: count, dtype: int64"
      ]
     },
     "execution_count": 17,
     "metadata": {},
     "output_type": "execute_result"
    }
   ],
   "source": [
    "df_transactions_train_v1['counter_coefficient'].value_counts()"
   ]
  },
  {
   "cell_type": "code",
   "execution_count": 18,
   "id": "bb41971d",
   "metadata": {},
   "outputs": [],
   "source": [
    "df_transactions_train_v1 = df_transactions_train_v1[~((df_transactions_train_v1['counter_coefficient'] == 0) | (df_transactions_train_v1['counter_coefficient'].isin([6, 8, 9, 10,20,30,40,50])))]\n",
    "df_transactions_train_v1['counter_coefficient'] = df_transactions_train_v1['counter_coefficient'].cat.remove_unused_categories()"
   ]
  },
  {
   "cell_type": "code",
   "execution_count": 19,
   "id": "16f13856",
   "metadata": {},
   "outputs": [
    {
     "data": {
      "text/plain": [
       "months_number\n",
       "4         2518497\n",
       "8          201643\n",
       "2          179380\n",
       "1           80817\n",
       "12          40503\n",
       "           ...   \n",
       "461273          1\n",
       "364360          1\n",
       "367445          1\n",
       "459733          1\n",
       "463554          1\n",
       "Name: count, Length: 515, dtype: int64"
      ]
     },
     "execution_count": 19,
     "metadata": {},
     "output_type": "execute_result"
    }
   ],
   "source": [
    "df_transactions_train_v1['months_number'].value_counts()"
   ]
  },
  {
   "cell_type": "code",
   "execution_count": 20,
   "id": "b80c6b00",
   "metadata": {},
   "outputs": [],
   "source": [
    "df_transactions_train_v1 = df_transactions_train_v1[~(df_transactions_train_v1['months_number'] > 12)]"
   ]
  },
  {
   "cell_type": "code",
   "execution_count": 21,
   "id": "62c8aa79",
   "metadata": {},
   "outputs": [],
   "source": [
    "df_transactions_train_v1['concat']= df_transactions_train_v1['client_id'] + df_transactions_train_v1['invoice_date'].astype(str)"
   ]
  },
  {
   "cell_type": "code",
   "execution_count": 23,
   "id": "11d78a78",
   "metadata": {},
   "outputs": [],
   "source": [
    "df_transactions_train_v1.drop_duplicates(subset='concat', keep=False, inplace=True)"
   ]
  },
  {
   "cell_type": "code",
   "execution_count": 24,
   "id": "22e3609a",
   "metadata": {},
   "outputs": [],
   "source": [
    "df_transactions_train_v1.drop('concat', axis=1, inplace=True)"
   ]
  },
  {
   "cell_type": "code",
   "execution_count": 25,
   "id": "29d6d690",
   "metadata": {},
   "outputs": [],
   "source": [
    "df_transactions_train_v1['consommation_total'] = df_transactions_train_v1['new_index'] - df_transactions_train_v1['old_index']"
   ]
  },
  {
   "cell_type": "code",
   "execution_count": 26,
   "id": "8dc5ef6a",
   "metadata": {},
   "outputs": [],
   "source": [
    "df_transactions_test_v1['consommation_total'] = df_transactions_test_v1['new_index'] - df_transactions_test_v1['old_index']"
   ]
  },
  {
   "cell_type": "code",
   "execution_count": 27,
   "id": "165d5e79",
   "metadata": {},
   "outputs": [],
   "source": [
    "df_transactions_train_v1 = df_transactions_train_v1[df_transactions_train_v1['consommation_total'] >= 0]"
   ]
  },
  {
   "cell_type": "code",
   "execution_count": 28,
   "id": "7a686247",
   "metadata": {},
   "outputs": [
    {
     "name": "stdout",
     "output_type": "stream",
     "text": [
      "<class 'pandas.core.frame.DataFrame'>\n",
      "Index: 2839309 entries, 0 to 4476748\n",
      "Data columns (total 16 columns):\n",
      " #   Column                Dtype         \n",
      "---  ------                -----         \n",
      " 0   client_id             object        \n",
      " 1   invoice_date          datetime64[ns]\n",
      " 2   tarif_type            category      \n",
      " 3   counter_number        int64         \n",
      " 4   counter_statue        category      \n",
      " 5   counter_code          int64         \n",
      " 6   reading_remarque      int64         \n",
      " 7   counter_coefficient   category      \n",
      " 8   consommation_level_1  int64         \n",
      " 9   consommation_level_2  int64         \n",
      " 10  consommation_level_3  int64         \n",
      " 11  consommation_level_4  int64         \n",
      " 12  old_index             int64         \n",
      " 13  new_index             int64         \n",
      " 14  months_number         int64         \n",
      " 15  consommation_total    int64         \n",
      "dtypes: category(3), datetime64[ns](1), int64(11), object(1)\n",
      "memory usage: 311.4+ MB\n"
     ]
    }
   ],
   "source": [
    "df_transactions_train_v1.info()"
   ]
  },
  {
   "cell_type": "code",
   "execution_count": 29,
   "id": "b87ae4bf",
   "metadata": {},
   "outputs": [],
   "source": [
    "df_agg = df_transactions_train_v1.groupby('client_id').agg(\n",
    "    counter_number = pd.NamedAgg(column='counter_number', aggfunc='max'),\n",
    "    counter_code = pd.NamedAgg(column='counter_code', aggfunc='max'),\n",
    "    reading_remarque_min = pd.NamedAgg(column='reading_remarque', aggfunc='min'),\n",
    "    reading_remarque_max = pd.NamedAgg(column='reading_remarque', aggfunc='max'),\n",
    "    reading_remarque_std = pd.NamedAgg(column='reading_remarque', aggfunc='std'),\n",
    "    reading_remarque_mean = pd.NamedAgg(column='reading_remarque', aggfunc='mean'),\n",
    "    reading_remarque_median = pd.NamedAgg(column='reading_remarque', aggfunc='median'),\n",
    "    conso_level1_sum = pd.NamedAgg(column='consommation_level_1', aggfunc='sum'),\n",
    "    conso_level2_sum = pd.NamedAgg(column='consommation_level_2', aggfunc='sum'),\n",
    "    conso_level3_sum = pd.NamedAgg(column='consommation_level_3', aggfunc='sum'),\n",
    "    conso_level4_sum = pd.NamedAgg(column='consommation_level_4', aggfunc='sum'),\n",
    "    conso_min = pd.NamedAgg(column='consommation_total', aggfunc='min'),\n",
    "    conso_max = pd.NamedAgg(column='consommation_total', aggfunc='max'),\n",
    "    conso_std = pd.NamedAgg(column='consommation_total', aggfunc='std'),\n",
    "    conso_mean = pd.NamedAgg(column='consommation_total', aggfunc='mean'),\n",
    "    conso_median = pd.NamedAgg(column='consommation_total', aggfunc='median')\n",
    "    ).reset_index()"
   ]
  },
  {
   "cell_type": "code",
   "execution_count": 30,
   "id": "35ff811c",
   "metadata": {},
   "outputs": [],
   "source": [
    "df_agg1 = df_transactions_test_v1.groupby('client_id').agg(\n",
    "    counter_number = pd.NamedAgg(column='counter_number', aggfunc='max'),\n",
    "    counter_code = pd.NamedAgg(column='counter_code', aggfunc='max'),\n",
    "    reading_remarque_min = pd.NamedAgg(column='reading_remarque', aggfunc='min'),\n",
    "    reading_remarque_max = pd.NamedAgg(column='reading_remarque', aggfunc='max'),\n",
    "    reading_remarque_std = pd.NamedAgg(column='reading_remarque', aggfunc='std'),\n",
    "    reading_remarque_mean = pd.NamedAgg(column='reading_remarque', aggfunc='mean'),\n",
    "    reading_remarque_median = pd.NamedAgg(column='reading_remarque', aggfunc='median'),\n",
    "    conso_level1_sum = pd.NamedAgg(column='consommation_level_1', aggfunc='sum'),\n",
    "    conso_level2_sum = pd.NamedAgg(column='consommation_level_2', aggfunc='sum'),\n",
    "    conso_level3_sum = pd.NamedAgg(column='consommation_level_3', aggfunc='sum'),\n",
    "    conso_level4_sum = pd.NamedAgg(column='consommation_level_4', aggfunc='sum'),\n",
    "    conso_min = pd.NamedAgg(column='consommation_total', aggfunc='min'),\n",
    "    conso_max = pd.NamedAgg(column='consommation_total', aggfunc='max'),\n",
    "    conso_std = pd.NamedAgg(column='consommation_total', aggfunc='std'),\n",
    "    conso_mean = pd.NamedAgg(column='consommation_total', aggfunc='mean'),\n",
    "    conso_median = pd.NamedAgg(column='consommation_total', aggfunc='median')\n",
    "    ).reset_index()"
   ]
  },
  {
   "cell_type": "code",
   "execution_count": 31,
   "id": "ed2b66f2",
   "metadata": {},
   "outputs": [],
   "source": [
    "def mode_group(x):\n",
    "    return x.mode().iloc[0] if not x.mode().empty else None\n",
    "\n",
    "df_mode = df_transactions_train_v1.groupby('client_id').agg(\n",
    "    tarif_type = pd.NamedAgg(column='tarif_type', aggfunc=mode_group),\n",
    "    counter_statue = pd.NamedAgg(column='counter_statue', aggfunc=mode_group),\n",
    "    counter_coefficient = pd.NamedAgg(column='counter_coefficient', aggfunc=mode_group)\n",
    "    ).reset_index()"
   ]
  },
  {
   "cell_type": "code",
   "execution_count": 32,
   "id": "07b30457",
   "metadata": {},
   "outputs": [],
   "source": [
    "df_mode1 = df_transactions_test_v1.groupby('client_id').agg(\n",
    "    tarif_type = pd.NamedAgg(column='tarif_type', aggfunc=mode_group),\n",
    "    counter_statue = pd.NamedAgg(column='counter_statue', aggfunc=mode_group),\n",
    "    counter_coefficient = pd.NamedAgg(column='counter_coefficient', aggfunc=mode_group)\n",
    "    ).reset_index()"
   ]
  },
  {
   "cell_type": "code",
   "execution_count": 33,
   "id": "0a519e91",
   "metadata": {},
   "outputs": [],
   "source": [
    "\n",
    "def palier_max_et_compte(df_client):\n",
    "    paliers = ['consommation_level_1', 'consommation_level_2', 'consommation_level_3', 'consommation_level_4']\n",
    "\n",
    "    # Création d'un DataFrame booléen pour les franchissements\n",
    "    franchissements = (df_client[paliers] > 0).sum()\n",
    "    \n",
    "    # S'il n'y a aucun franchissement\n",
    "    if (franchissements == 0).all():\n",
    "        return pd.Series([None, 0], index=['palier_max', 'nb_max_franchi'])\n",
    "    \n",
    "    # Trouver le palier max franchi (ex : palier_3)\n",
    "    palier_max = franchissements[franchissements > 0].index.map(lambda p: int(p.split('_')[2])).max()\n",
    "    nom_palier_max = f'consommation_level_{palier_max}'\n",
    "    \n",
    "    # Nombre de fois que ce palier max a été franchi\n",
    "    nb_max = (df_client[nom_palier_max] > 0).sum()\n",
    "    \n",
    "    return pd.Series([nom_palier_max, nb_max], index=['palier_max', 'nb_max_franchi'])\n"
   ]
  },
  {
   "cell_type": "code",
   "execution_count": 34,
   "id": "d380865e",
   "metadata": {},
   "outputs": [
    {
     "name": "stderr",
     "output_type": "stream",
     "text": [
      "C:\\Users\\djidj\\AppData\\Local\\Temp\\ipykernel_34348\\3620131387.py:1: DeprecationWarning: DataFrameGroupBy.apply operated on the grouping columns. This behavior is deprecated, and in a future version of pandas the grouping columns will be excluded from the operation. Either pass `include_groups=False` to exclude the groupings or explicitly select the grouping columns after groupby to silence this warning.\n",
      "  resultat = df_transactions_train_v1.groupby('client_id').apply(palier_max_et_compte).reset_index()\n"
     ]
    }
   ],
   "source": [
    "resultat = df_transactions_train_v1.groupby('client_id').apply(palier_max_et_compte).reset_index()"
   ]
  },
  {
   "cell_type": "code",
   "execution_count": 35,
   "id": "eb99bd2a",
   "metadata": {},
   "outputs": [
    {
     "name": "stderr",
     "output_type": "stream",
     "text": [
      "C:\\Users\\djidj\\AppData\\Local\\Temp\\ipykernel_34348\\4076398852.py:1: DeprecationWarning: DataFrameGroupBy.apply operated on the grouping columns. This behavior is deprecated, and in a future version of pandas the grouping columns will be excluded from the operation. Either pass `include_groups=False` to exclude the groupings or explicitly select the grouping columns after groupby to silence this warning.\n",
      "  resultat1 = df_transactions_test_v1.groupby('client_id').apply(palier_max_et_compte).reset_index()\n"
     ]
    }
   ],
   "source": [
    "resultat1 = df_transactions_test_v1.groupby('client_id').apply(palier_max_et_compte).reset_index()"
   ]
  },
  {
   "cell_type": "code",
   "execution_count": 36,
   "id": "b3a23cac",
   "metadata": {},
   "outputs": [
    {
     "data": {
      "text/html": [
       "<div>\n",
       "<style scoped>\n",
       "    .dataframe tbody tr th:only-of-type {\n",
       "        vertical-align: middle;\n",
       "    }\n",
       "\n",
       "    .dataframe tbody tr th {\n",
       "        vertical-align: top;\n",
       "    }\n",
       "\n",
       "    .dataframe thead th {\n",
       "        text-align: right;\n",
       "    }\n",
       "</style>\n",
       "<table border=\"1\" class=\"dataframe\">\n",
       "  <thead>\n",
       "    <tr style=\"text-align: right;\">\n",
       "      <th></th>\n",
       "      <th>client_id</th>\n",
       "      <th>counter_number</th>\n",
       "      <th>counter_code</th>\n",
       "      <th>reading_remarque_min</th>\n",
       "      <th>reading_remarque_max</th>\n",
       "      <th>reading_remarque_std</th>\n",
       "      <th>reading_remarque_mean</th>\n",
       "      <th>reading_remarque_median</th>\n",
       "      <th>conso_level1_sum</th>\n",
       "      <th>conso_level2_sum</th>\n",
       "      <th>...</th>\n",
       "      <th>conso_min</th>\n",
       "      <th>conso_max</th>\n",
       "      <th>conso_std</th>\n",
       "      <th>conso_mean</th>\n",
       "      <th>conso_median</th>\n",
       "      <th>tarif_type</th>\n",
       "      <th>counter_statue</th>\n",
       "      <th>counter_coefficient</th>\n",
       "      <th>palier_max</th>\n",
       "      <th>nb_max_franchi</th>\n",
       "    </tr>\n",
       "  </thead>\n",
       "  <tbody>\n",
       "    <tr>\n",
       "      <th>0</th>\n",
       "      <td>train_Client_0</td>\n",
       "      <td>1335667</td>\n",
       "      <td>207</td>\n",
       "      <td>6</td>\n",
       "      <td>9</td>\n",
       "      <td>1.248192</td>\n",
       "      <td>6.971429</td>\n",
       "      <td>6.0</td>\n",
       "      <td>12334</td>\n",
       "      <td>370</td>\n",
       "      <td>...</td>\n",
       "      <td>38</td>\n",
       "      <td>1386</td>\n",
       "      <td>341.553930</td>\n",
       "      <td>362.971429</td>\n",
       "      <td>267.0</td>\n",
       "      <td>11</td>\n",
       "      <td>0</td>\n",
       "      <td>1</td>\n",
       "      <td>consommation_level_2</td>\n",
       "      <td>2.0</td>\n",
       "    </tr>\n",
       "    <tr>\n",
       "      <th>1</th>\n",
       "      <td>train_Client_1</td>\n",
       "      <td>678902</td>\n",
       "      <td>203</td>\n",
       "      <td>6</td>\n",
       "      <td>9</td>\n",
       "      <td>1.377097</td>\n",
       "      <td>7.216216</td>\n",
       "      <td>6.0</td>\n",
       "      <td>20629</td>\n",
       "      <td>0</td>\n",
       "      <td>...</td>\n",
       "      <td>190</td>\n",
       "      <td>1207</td>\n",
       "      <td>197.935960</td>\n",
       "      <td>557.540541</td>\n",
       "      <td>520.0</td>\n",
       "      <td>11</td>\n",
       "      <td>0</td>\n",
       "      <td>1</td>\n",
       "      <td>consommation_level_1</td>\n",
       "      <td>37.0</td>\n",
       "    </tr>\n",
       "    <tr>\n",
       "      <th>2</th>\n",
       "      <td>train_Client_10</td>\n",
       "      <td>572765</td>\n",
       "      <td>207</td>\n",
       "      <td>6</td>\n",
       "      <td>9</td>\n",
       "      <td>1.258955</td>\n",
       "      <td>7.055556</td>\n",
       "      <td>6.0</td>\n",
       "      <td>14375</td>\n",
       "      <td>682</td>\n",
       "      <td>...</td>\n",
       "      <td>188</td>\n",
       "      <td>3082</td>\n",
       "      <td>646.808386</td>\n",
       "      <td>836.500000</td>\n",
       "      <td>655.5</td>\n",
       "      <td>11</td>\n",
       "      <td>0</td>\n",
       "      <td>1</td>\n",
       "      <td>consommation_level_2</td>\n",
       "      <td>1.0</td>\n",
       "    </tr>\n",
       "    <tr>\n",
       "      <th>3</th>\n",
       "      <td>train_Client_100</td>\n",
       "      <td>2078</td>\n",
       "      <td>413</td>\n",
       "      <td>6</td>\n",
       "      <td>9</td>\n",
       "      <td>0.670820</td>\n",
       "      <td>6.150000</td>\n",
       "      <td>6.0</td>\n",
       "      <td>24</td>\n",
       "      <td>0</td>\n",
       "      <td>...</td>\n",
       "      <td>0</td>\n",
       "      <td>15</td>\n",
       "      <td>3.607011</td>\n",
       "      <td>1.200000</td>\n",
       "      <td>0.0</td>\n",
       "      <td>11</td>\n",
       "      <td>0</td>\n",
       "      <td>1</td>\n",
       "      <td>consommation_level_1</td>\n",
       "      <td>4.0</td>\n",
       "    </tr>\n",
       "    <tr>\n",
       "      <th>4</th>\n",
       "      <td>train_Client_1000</td>\n",
       "      <td>19575</td>\n",
       "      <td>207</td>\n",
       "      <td>8</td>\n",
       "      <td>9</td>\n",
       "      <td>0.363137</td>\n",
       "      <td>8.857143</td>\n",
       "      <td>9.0</td>\n",
       "      <td>9292</td>\n",
       "      <td>1468</td>\n",
       "      <td>...</td>\n",
       "      <td>124</td>\n",
       "      <td>2382</td>\n",
       "      <td>633.485669</td>\n",
       "      <td>922.642857</td>\n",
       "      <td>770.0</td>\n",
       "      <td>11</td>\n",
       "      <td>0</td>\n",
       "      <td>1</td>\n",
       "      <td>consommation_level_4</td>\n",
       "      <td>2.0</td>\n",
       "    </tr>\n",
       "  </tbody>\n",
       "</table>\n",
       "<p>5 rows × 22 columns</p>\n",
       "</div>"
      ],
      "text/plain": [
       "           client_id  counter_number  counter_code  reading_remarque_min  \\\n",
       "0     train_Client_0         1335667           207                     6   \n",
       "1     train_Client_1          678902           203                     6   \n",
       "2    train_Client_10          572765           207                     6   \n",
       "3   train_Client_100            2078           413                     6   \n",
       "4  train_Client_1000           19575           207                     8   \n",
       "\n",
       "   reading_remarque_max  reading_remarque_std  reading_remarque_mean  \\\n",
       "0                     9              1.248192               6.971429   \n",
       "1                     9              1.377097               7.216216   \n",
       "2                     9              1.258955               7.055556   \n",
       "3                     9              0.670820               6.150000   \n",
       "4                     9              0.363137               8.857143   \n",
       "\n",
       "   reading_remarque_median  conso_level1_sum  conso_level2_sum  ...  \\\n",
       "0                      6.0             12334               370  ...   \n",
       "1                      6.0             20629                 0  ...   \n",
       "2                      6.0             14375               682  ...   \n",
       "3                      6.0                24                 0  ...   \n",
       "4                      9.0              9292              1468  ...   \n",
       "\n",
       "   conso_min  conso_max   conso_std  conso_mean  conso_median  tarif_type  \\\n",
       "0         38       1386  341.553930  362.971429         267.0          11   \n",
       "1        190       1207  197.935960  557.540541         520.0          11   \n",
       "2        188       3082  646.808386  836.500000         655.5          11   \n",
       "3          0         15    3.607011    1.200000           0.0          11   \n",
       "4        124       2382  633.485669  922.642857         770.0          11   \n",
       "\n",
       "   counter_statue counter_coefficient            palier_max nb_max_franchi  \n",
       "0               0                   1  consommation_level_2            2.0  \n",
       "1               0                   1  consommation_level_1           37.0  \n",
       "2               0                   1  consommation_level_2            1.0  \n",
       "3               0                   1  consommation_level_1            4.0  \n",
       "4               0                   1  consommation_level_4            2.0  \n",
       "\n",
       "[5 rows x 22 columns]"
      ]
     },
     "execution_count": 36,
     "metadata": {},
     "output_type": "execute_result"
    }
   ],
   "source": [
    "from functools import reduce\n",
    "\n",
    "dfs = [df_agg, df_mode, resultat]\n",
    "df_merged = reduce(lambda left, right: pd.merge(left, right, on='client_id', how='left'), dfs)\n",
    "df_merged.head()"
   ]
  },
  {
   "cell_type": "code",
   "execution_count": 37,
   "id": "7ecf5187",
   "metadata": {},
   "outputs": [],
   "source": [
    "from functools import reduce\n",
    "\n",
    "dfs1 = [df_agg1, df_mode1, resultat1]\n",
    "df_merged1 = reduce(lambda left, right: pd.merge(left, right, on='client_id', how='left'), dfs1)"
   ]
  },
  {
   "cell_type": "code",
   "execution_count": 38,
   "id": "a46a7c97",
   "metadata": {},
   "outputs": [],
   "source": [
    "df_client_train_final = pd.merge(df_client_train1, df_merged, on='client_id', how='right')"
   ]
  },
  {
   "cell_type": "code",
   "execution_count": 39,
   "id": "52e08519",
   "metadata": {},
   "outputs": [],
   "source": [
    "df_client_test_final = pd.merge(df_client_test, df_merged1, on='client_id', how='right')"
   ]
  },
  {
   "cell_type": "code",
   "execution_count": 40,
   "id": "9c2b8907",
   "metadata": {},
   "outputs": [],
   "source": [
    "df_client_train_final = deplacer_colonnes(df_client_train_final, 'target',26)"
   ]
  },
  {
   "cell_type": "code",
   "execution_count": 41,
   "id": "86cc9ebd",
   "metadata": {},
   "outputs": [],
   "source": [
    "df_client_test_final = deplacer_colonnes(df_client_test_final, 'client_id',0)"
   ]
  }
 ],
 "metadata": {
  "kernelspec": {
   "display_name": "Python 3",
   "language": "python",
   "name": "python3"
  },
  "language_info": {
   "codemirror_mode": {
    "name": "ipython",
    "version": 3
   },
   "file_extension": ".py",
   "mimetype": "text/x-python",
   "name": "python",
   "nbconvert_exporter": "python",
   "pygments_lexer": "ipython3",
   "version": "3.12.9"
  }
 },
 "nbformat": 4,
 "nbformat_minor": 5
}
