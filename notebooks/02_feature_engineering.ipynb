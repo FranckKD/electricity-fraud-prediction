{
 "cells": [
  {
   "cell_type": "code",
   "execution_count": 64,
   "id": "f229a2a2",
   "metadata": {},
   "outputs": [],
   "source": [
    "from zipfile import ZipFile\n",
    "from src.utils.helpers import convert_to_category\n",
    "from sklearn.preprocessing import OneHotEncoder\n",
    "import pandas as pd"
   ]
  },
  {
   "cell_type": "code",
   "execution_count": 7,
   "id": "bf3bd29f",
   "metadata": {},
   "outputs": [],
   "source": [
    "df_client = pd.read_csv('../data/processed/df_client_train_processed.csv')"
   ]
  },
  {
   "cell_type": "code",
   "execution_count": 4,
   "id": "ec2661db",
   "metadata": {},
   "outputs": [],
   "source": [
    "zip_path = \"../data/processed/df_transactions_train_processed.zip\"\n",
    "\n",
    "with ZipFile(zip_path, 'r') as zip_ref:\n",
    "    csv_filename = zip_ref.namelist()[0]\n",
    "    with zip_ref.open(csv_filename) as csv_file:\n",
    "        df_transactions = pd.read_csv(csv_file)"
   ]
  },
  {
   "cell_type": "code",
   "execution_count": 8,
   "id": "a9febbe0",
   "metadata": {},
   "outputs": [],
   "source": [
    "df_client_1 = df_client.copy()\n",
    "df_transactions_1 = df_transactions.copy()"
   ]
  },
  {
   "cell_type": "code",
   "execution_count": 13,
   "id": "f7276ab0",
   "metadata": {},
   "outputs": [],
   "source": [
    "df_client_1 = convert_to_category(df_client_1, ['district', 'client_catg', 'region'])\n",
    "df_transactions_1 = convert_to_category(df_transactions_1, ['tarif_type','counter_statue', 'counter_coefficient'])"
   ]
  },
  {
   "cell_type": "code",
   "execution_count": 29,
   "id": "498780ea",
   "metadata": {},
   "outputs": [],
   "source": [
    "df_client_1['creation_date'] = pd.to_datetime(df_client_1['creation_date'], format= 'mixed', dayfirst=True)\n",
    "df_transactions_1['invoice_date'] = pd.to_datetime(df_transactions_1['invoice_date'])"
   ]
  },
  {
   "cell_type": "code",
   "execution_count": 39,
   "id": "240de0a1",
   "metadata": {},
   "outputs": [],
   "source": [
    "df_transactions_1['lag_1'] = df_transactions_1.groupby('client_id')['consommation_total'].shift(1)"
   ]
  },
  {
   "cell_type": "code",
   "execution_count": 40,
   "id": "24b389b8",
   "metadata": {},
   "outputs": [],
   "source": [
    "df_transactions_1['variation_conso'] = ((df_transactions_1['consommation_total'] - df_transactions_1['lag_1'])/df_transactions_1['lag_1'])*100"
   ]
  },
  {
   "cell_type": "code",
   "execution_count": 42,
   "id": "701b72a6",
   "metadata": {},
   "outputs": [],
   "source": [
    "Q1 = df_transactions_1['consommation_total'].quantile(0.25)\n",
    "Q3 = df_transactions_1['consommation_total'].quantile(0.75)\n",
    "IQR = Q3 - Q1\n",
    "borne_inf = Q1 - 1.5 * IQR\n",
    "borne_sup = Q3 + 1.5 * IQR\n",
    "\n",
    "df_transactions_1['outlier_conso_total'] = ((df_transactions_1['consommation_total'] < borne_inf) | (df_transactions_1['consommation_total'] > borne_sup)).astype(int)\n",
    "\n",
    "Q1_var = df_transactions_1['variation_conso'].quantile(0.25)\n",
    "Q3_var = df_transactions_1['variation_conso'].quantile(0.75)\n",
    "IQR_var = Q3_var - Q1_var\n",
    "borne_inf_var = Q1_var - 1.5 * IQR_var\n",
    "borne_sup_var = Q3_var + 1.5 * IQR_var\n",
    "\n",
    "df_transactions_1['outlier_variation'] = ((df_transactions_1['variation_conso'] < borne_inf_var) | (df_transactions_1['variation_conso'] > borne_sup_var)).astype(int)"
   ]
  },
  {
   "cell_type": "code",
   "execution_count": 48,
   "id": "fa80ad12",
   "metadata": {},
   "outputs": [],
   "source": [
    "df_transactions_1['is_null_conso'] = (df_transactions_1['consommation_total'] == 0).astype(int)"
   ]
  },
  {
   "cell_type": "code",
   "execution_count": 50,
   "id": "f7ca75a3",
   "metadata": {},
   "outputs": [],
   "source": [
    "df_transactions_1['part_conso_level_1'] = (df_transactions_1['consommation_level_1'] / df_transactions_1['consommation_total'])*100\n",
    "df_transactions_1['part_conso_level_2'] = (df_transactions_1['consommation_level_2'] / df_transactions_1['consommation_total'])*100\n",
    "df_transactions_1['part_conso_level_3'] = (df_transactions_1['consommation_level_3'] / df_transactions_1['consommation_total'])*100\n",
    "df_transactions_1['part_conso_level_4'] = (df_transactions_1['consommation_level_4'] / df_transactions_1['consommation_total'])*100"
   ]
  },
  {
   "cell_type": "code",
   "execution_count": 52,
   "id": "4ba1e238",
   "metadata": {},
   "outputs": [
    {
     "name": "stderr",
     "output_type": "stream",
     "text": [
      "C:\\Users\\djidj\\AppData\\Local\\Temp\\ipykernel_9156\\1237248556.py:1: FutureWarning: The behavior of DataFrame.idxmax with all-NA values, or any-NA and skipna=False, is deprecated. In a future version this will raise ValueError\n",
      "  df_transactions_1['dominant_level'] = df_transactions_1[['part_conso_level_1', 'part_conso_level_2', 'part_conso_level_3', 'part_conso_level_4']].idxmax(axis=1)\n"
     ]
    }
   ],
   "source": [
    "df_transactions_1['dominant_level'] = df_transactions_1[['part_conso_level_1', 'part_conso_level_2', 'part_conso_level_3', 'part_conso_level_4']].idxmax(axis=1)"
   ]
  },
  {
   "cell_type": "code",
   "execution_count": 67,
   "id": "aa18e219",
   "metadata": {},
   "outputs": [],
   "source": [
    "df_transactions_1 = convert_to_category(df_transactions_1, ['outlier_conso_total', 'outlier_variation', 'is_null_conso','dominant_level'])"
   ]
  },
  {
   "cell_type": "code",
   "execution_count": null,
   "id": "b69d23b2",
   "metadata": {},
   "outputs": [],
   "source": [
    "df_transactions_1['dominant_level'] = df_transactions_1['dominant_level'].cat.set_categories(['part_conso_level_1', 'part_conso_level_2', 'part_conso_level_3', 'part_conso_level_4'])\n",
    "df_transactions_1['dominant_level'] = df_transactions_1['dominant_level'].cat.rename_categories({'part_conso_level_1':1, 'part_conso_level_2':2, 'part_conso_level_3':3, 'part_conso_level_4':4})"
   ]
  },
  {
   "cell_type": "code",
   "execution_count": 72,
   "id": "1dab77f9",
   "metadata": {},
   "outputs": [],
   "source": [
    "encoder = OneHotEncoder(sparse_output=False, handle_unknown='ignore')\n",
    "cat_columns = ['tarif_type', 'counter_statue', 'counter_coefficient', 'outlier_conso_total', 'outlier_variation', 'is_null_conso', 'dominant_level']\n",
    "encoded = encoder.fit_transform(df_transactions_1[cat_columns])\n"
   ]
  },
  {
   "cell_type": "code",
   "execution_count": 75,
   "id": "8e793aac",
   "metadata": {},
   "outputs": [],
   "source": [
    "encoded_df = pd.DataFrame(encoded, columns=encoder.get_feature_names_out(cat_columns))\n",
    "\n",
    "df_transactions_final = pd.concat([df_transactions_1.drop(cat_columns, axis=1), encoded_df], axis=1)"
   ]
  },
  {
   "cell_type": "code",
   "execution_count": 77,
   "id": "c03b12d4",
   "metadata": {},
   "outputs": [
    {
     "data": {
      "text/plain": [
       "Index(['client_id', 'invoice_date', 'counter_number', 'counter_code',\n",
       "       'reading_remarque', 'consommation_level_1', 'consommation_level_2',\n",
       "       'consommation_level_3', 'consommation_level_4', 'old_index',\n",
       "       'new_index', 'months_number', 'consommation_total', 'conso_level',\n",
       "       'ecart', 'conso_incoherente', 'lag_1', 'variation_conso',\n",
       "       'part_conso_level_1', 'part_conso_level_2', 'part_conso_level_3',\n",
       "       'part_conso_level_4', 'tarif_type_9', 'tarif_type_10', 'tarif_type_11',\n",
       "       'tarif_type_12', 'tarif_type_13', 'tarif_type_14', 'tarif_type_15',\n",
       "       'tarif_type_18', 'tarif_type_21', 'tarif_type_24', 'tarif_type_29',\n",
       "       'counter_statue_0', 'counter_statue_1', 'counter_statue_2',\n",
       "       'counter_statue_3', 'counter_statue_4', 'counter_statue_5',\n",
       "       'counter_coefficient_1', 'counter_coefficient_20',\n",
       "       'outlier_conso_total_0', 'outlier_conso_total_1', 'outlier_variation_0',\n",
       "       'outlier_variation_1', 'is_null_conso_0', 'is_null_conso_1',\n",
       "       'dominant_level_1.0', 'dominant_level_2.0', 'dominant_level_3.0',\n",
       "       'dominant_level_4.0', 'dominant_level_nan'],\n",
       "      dtype='object')"
      ]
     },
     "execution_count": 77,
     "metadata": {},
     "output_type": "execute_result"
    }
   ],
   "source": [
    "df_transactions_final.columns"
   ]
  },
  {
   "cell_type": "code",
   "execution_count": null,
   "id": "133417cb",
   "metadata": {},
   "outputs": [],
   "source": [
    "df_agg = df_transactions_1.groupby('client_id').agg(\n",
    "    counter_number = pd.NamedAgg(column='counter_number', aggfunc='max'),\n",
    "    counter_code = pd.NamedAgg(column='counter_code', aggfunc='max'),\n",
    "    reading_remarque_min = pd.NamedAgg(column='reading_remarque', aggfunc='min'),\n",
    "    reading_remarque_max = pd.NamedAgg(column='reading_remarque', aggfunc='max'),\n",
    "    reading_remarque_std = pd.NamedAgg(column='reading_remarque', aggfunc='std'),\n",
    "    reading_remarque_mean = pd.NamedAgg(column='reading_remarque', aggfunc='mean'),\n",
    "    reading_remarque_median = pd.NamedAgg(column='reading_remarque', aggfunc='median'),\n",
    "    conso_level1_sum = pd.NamedAgg(column='consommation_level_1', aggfunc='sum'),\n",
    "    conso_level2_sum = pd.NamedAgg(column='consommation_level_2', aggfunc='sum'),\n",
    "    conso_level3_sum = pd.NamedAgg(column='consommation_level_3', aggfunc='sum'),\n",
    "    conso_level4_sum = pd.NamedAgg(column='consommation_level_4', aggfunc='sum'),\n",
    "    conso_min = pd.NamedAgg(column='consommation_total', aggfunc='min'),\n",
    "    conso_max = pd.NamedAgg(column='consommation_total', aggfunc='max'),\n",
    "    conso_std = pd.NamedAgg(column='consommation_total', aggfunc='std'),\n",
    "    conso_mean = pd.NamedAgg(column='consommation_total', aggfunc='mean'),\n",
    "    conso_median = pd.NamedAgg(column='consommation_total', aggfunc='median')\n",
    "    ).reset_index()"
   ]
  },
  {
   "cell_type": "code",
   "execution_count": null,
   "id": "6a640012",
   "metadata": {},
   "outputs": [],
   "source": [
    "df_agg1 = df_transactions_test_v1.groupby('client_id').agg(\n",
    "    counter_number = pd.NamedAgg(column='counter_number', aggfunc='max'),\n",
    "    counter_code = pd.NamedAgg(column='counter_code', aggfunc='max'),\n",
    "    reading_remarque_min = pd.NamedAgg(column='reading_remarque', aggfunc='min'),\n",
    "    reading_remarque_max = pd.NamedAgg(column='reading_remarque', aggfunc='max'),\n",
    "    reading_remarque_std = pd.NamedAgg(column='reading_remarque', aggfunc='std'),\n",
    "    reading_remarque_mean = pd.NamedAgg(column='reading_remarque', aggfunc='mean'),\n",
    "    reading_remarque_median = pd.NamedAgg(column='reading_remarque', aggfunc='median'),\n",
    "    conso_level1_sum = pd.NamedAgg(column='consommation_level_1', aggfunc='sum'),\n",
    "    conso_level2_sum = pd.NamedAgg(column='consommation_level_2', aggfunc='sum'),\n",
    "    conso_level3_sum = pd.NamedAgg(column='consommation_level_3', aggfunc='sum'),\n",
    "    conso_level4_sum = pd.NamedAgg(column='consommation_level_4', aggfunc='sum'),\n",
    "    conso_min = pd.NamedAgg(column='consommation_total', aggfunc='min'),\n",
    "    conso_max = pd.NamedAgg(column='consommation_total', aggfunc='max'),\n",
    "    conso_std = pd.NamedAgg(column='consommation_total', aggfunc='std'),\n",
    "    conso_mean = pd.NamedAgg(column='consommation_total', aggfunc='mean'),\n",
    "    conso_median = pd.NamedAgg(column='consommation_total', aggfunc='median')\n",
    "    ).reset_index()"
   ]
  },
  {
   "cell_type": "code",
   "execution_count": null,
   "id": "410038dd",
   "metadata": {},
   "outputs": [],
   "source": [
    "def mode_group(x):\n",
    "    return x.mode().iloc[0] if not x.mode().empty else None\n",
    "\n",
    "df_mode = df_transactions_train_v1.groupby('client_id').agg(\n",
    "    tarif_type = pd.NamedAgg(column='tarif_type', aggfunc=mode_group),\n",
    "    counter_statue = pd.NamedAgg(column='counter_statue', aggfunc=mode_group),\n",
    "    counter_coefficient = pd.NamedAgg(column='counter_coefficient', aggfunc=mode_group)\n",
    "    ).reset_index()"
   ]
  },
  {
   "cell_type": "code",
   "execution_count": null,
   "id": "15c0612c",
   "metadata": {},
   "outputs": [],
   "source": [
    "df_mode1 = df_transactions_test_v1.groupby('client_id').agg(\n",
    "    tarif_type = pd.NamedAgg(column='tarif_type', aggfunc=mode_group),\n",
    "    counter_statue = pd.NamedAgg(column='counter_statue', aggfunc=mode_group),\n",
    "    counter_coefficient = pd.NamedAgg(column='counter_coefficient', aggfunc=mode_group)\n",
    "    ).reset_index()"
   ]
  },
  {
   "cell_type": "code",
   "execution_count": null,
   "id": "001dfefe",
   "metadata": {},
   "outputs": [],
   "source": [
    "\n",
    "def palier_max_et_compte(df_client):\n",
    "    paliers = ['consommation_level_1', 'consommation_level_2', 'consommation_level_3', 'consommation_level_4']\n",
    "\n",
    "    # Création d'un DataFrame booléen pour les franchissements\n",
    "    franchissements = (df_client[paliers] > 0).sum()\n",
    "    \n",
    "    # S'il n'y a aucun franchissement\n",
    "    if (franchissements == 0).all():\n",
    "        return pd.Series([None, 0], index=['palier_max', 'nb_max_franchi'])\n",
    "    \n",
    "    # Trouver le palier max franchi (ex : palier_3)\n",
    "    palier_max = franchissements[franchissements > 0].index.map(lambda p: int(p.split('_')[2])).max()\n",
    "    nom_palier_max = f'consommation_level_{palier_max}'\n",
    "    \n",
    "    # Nombre de fois que ce palier max a été franchi\n",
    "    nb_max = (df_client[nom_palier_max] > 0).sum()\n",
    "    \n",
    "    return pd.Series([nom_palier_max, nb_max], index=['palier_max', 'nb_max_franchi'])\n"
   ]
  },
  {
   "cell_type": "code",
   "execution_count": null,
   "id": "69457ce9",
   "metadata": {},
   "outputs": [
    {
     "name": "stderr",
     "output_type": "stream",
     "text": [
      "C:\\Users\\djidj\\AppData\\Local\\Temp\\ipykernel_34348\\3620131387.py:1: DeprecationWarning: DataFrameGroupBy.apply operated on the grouping columns. This behavior is deprecated, and in a future version of pandas the grouping columns will be excluded from the operation. Either pass `include_groups=False` to exclude the groupings or explicitly select the grouping columns after groupby to silence this warning.\n",
      "  resultat = df_transactions_train_v1.groupby('client_id').apply(palier_max_et_compte).reset_index()\n"
     ]
    }
   ],
   "source": [
    "resultat = df_transactions_train_v1.groupby('client_id').apply(palier_max_et_compte).reset_index()"
   ]
  },
  {
   "cell_type": "code",
   "execution_count": null,
   "id": "e42e4b1d",
   "metadata": {},
   "outputs": [
    {
     "name": "stderr",
     "output_type": "stream",
     "text": [
      "C:\\Users\\djidj\\AppData\\Local\\Temp\\ipykernel_34348\\4076398852.py:1: DeprecationWarning: DataFrameGroupBy.apply operated on the grouping columns. This behavior is deprecated, and in a future version of pandas the grouping columns will be excluded from the operation. Either pass `include_groups=False` to exclude the groupings or explicitly select the grouping columns after groupby to silence this warning.\n",
      "  resultat1 = df_transactions_test_v1.groupby('client_id').apply(palier_max_et_compte).reset_index()\n"
     ]
    }
   ],
   "source": [
    "resultat1 = df_transactions_test_v1.groupby('client_id').apply(palier_max_et_compte).reset_index()"
   ]
  },
  {
   "cell_type": "code",
   "execution_count": null,
   "id": "5bffd3e9",
   "metadata": {},
   "outputs": [
    {
     "data": {
      "text/html": [
       "<div>\n",
       "<style scoped>\n",
       "    .dataframe tbody tr th:only-of-type {\n",
       "        vertical-align: middle;\n",
       "    }\n",
       "\n",
       "    .dataframe tbody tr th {\n",
       "        vertical-align: top;\n",
       "    }\n",
       "\n",
       "    .dataframe thead th {\n",
       "        text-align: right;\n",
       "    }\n",
       "</style>\n",
       "<table border=\"1\" class=\"dataframe\">\n",
       "  <thead>\n",
       "    <tr style=\"text-align: right;\">\n",
       "      <th></th>\n",
       "      <th>client_id</th>\n",
       "      <th>counter_number</th>\n",
       "      <th>counter_code</th>\n",
       "      <th>reading_remarque_min</th>\n",
       "      <th>reading_remarque_max</th>\n",
       "      <th>reading_remarque_std</th>\n",
       "      <th>reading_remarque_mean</th>\n",
       "      <th>reading_remarque_median</th>\n",
       "      <th>conso_level1_sum</th>\n",
       "      <th>conso_level2_sum</th>\n",
       "      <th>...</th>\n",
       "      <th>conso_min</th>\n",
       "      <th>conso_max</th>\n",
       "      <th>conso_std</th>\n",
       "      <th>conso_mean</th>\n",
       "      <th>conso_median</th>\n",
       "      <th>tarif_type</th>\n",
       "      <th>counter_statue</th>\n",
       "      <th>counter_coefficient</th>\n",
       "      <th>palier_max</th>\n",
       "      <th>nb_max_franchi</th>\n",
       "    </tr>\n",
       "  </thead>\n",
       "  <tbody>\n",
       "    <tr>\n",
       "      <th>0</th>\n",
       "      <td>train_Client_0</td>\n",
       "      <td>1335667</td>\n",
       "      <td>207</td>\n",
       "      <td>6</td>\n",
       "      <td>9</td>\n",
       "      <td>1.248192</td>\n",
       "      <td>6.971429</td>\n",
       "      <td>6.0</td>\n",
       "      <td>12334</td>\n",
       "      <td>370</td>\n",
       "      <td>...</td>\n",
       "      <td>38</td>\n",
       "      <td>1386</td>\n",
       "      <td>341.553930</td>\n",
       "      <td>362.971429</td>\n",
       "      <td>267.0</td>\n",
       "      <td>11</td>\n",
       "      <td>0</td>\n",
       "      <td>1</td>\n",
       "      <td>consommation_level_2</td>\n",
       "      <td>2.0</td>\n",
       "    </tr>\n",
       "    <tr>\n",
       "      <th>1</th>\n",
       "      <td>train_Client_1</td>\n",
       "      <td>678902</td>\n",
       "      <td>203</td>\n",
       "      <td>6</td>\n",
       "      <td>9</td>\n",
       "      <td>1.377097</td>\n",
       "      <td>7.216216</td>\n",
       "      <td>6.0</td>\n",
       "      <td>20629</td>\n",
       "      <td>0</td>\n",
       "      <td>...</td>\n",
       "      <td>190</td>\n",
       "      <td>1207</td>\n",
       "      <td>197.935960</td>\n",
       "      <td>557.540541</td>\n",
       "      <td>520.0</td>\n",
       "      <td>11</td>\n",
       "      <td>0</td>\n",
       "      <td>1</td>\n",
       "      <td>consommation_level_1</td>\n",
       "      <td>37.0</td>\n",
       "    </tr>\n",
       "    <tr>\n",
       "      <th>2</th>\n",
       "      <td>train_Client_10</td>\n",
       "      <td>572765</td>\n",
       "      <td>207</td>\n",
       "      <td>6</td>\n",
       "      <td>9</td>\n",
       "      <td>1.258955</td>\n",
       "      <td>7.055556</td>\n",
       "      <td>6.0</td>\n",
       "      <td>14375</td>\n",
       "      <td>682</td>\n",
       "      <td>...</td>\n",
       "      <td>188</td>\n",
       "      <td>3082</td>\n",
       "      <td>646.808386</td>\n",
       "      <td>836.500000</td>\n",
       "      <td>655.5</td>\n",
       "      <td>11</td>\n",
       "      <td>0</td>\n",
       "      <td>1</td>\n",
       "      <td>consommation_level_2</td>\n",
       "      <td>1.0</td>\n",
       "    </tr>\n",
       "    <tr>\n",
       "      <th>3</th>\n",
       "      <td>train_Client_100</td>\n",
       "      <td>2078</td>\n",
       "      <td>413</td>\n",
       "      <td>6</td>\n",
       "      <td>9</td>\n",
       "      <td>0.670820</td>\n",
       "      <td>6.150000</td>\n",
       "      <td>6.0</td>\n",
       "      <td>24</td>\n",
       "      <td>0</td>\n",
       "      <td>...</td>\n",
       "      <td>0</td>\n",
       "      <td>15</td>\n",
       "      <td>3.607011</td>\n",
       "      <td>1.200000</td>\n",
       "      <td>0.0</td>\n",
       "      <td>11</td>\n",
       "      <td>0</td>\n",
       "      <td>1</td>\n",
       "      <td>consommation_level_1</td>\n",
       "      <td>4.0</td>\n",
       "    </tr>\n",
       "    <tr>\n",
       "      <th>4</th>\n",
       "      <td>train_Client_1000</td>\n",
       "      <td>19575</td>\n",
       "      <td>207</td>\n",
       "      <td>8</td>\n",
       "      <td>9</td>\n",
       "      <td>0.363137</td>\n",
       "      <td>8.857143</td>\n",
       "      <td>9.0</td>\n",
       "      <td>9292</td>\n",
       "      <td>1468</td>\n",
       "      <td>...</td>\n",
       "      <td>124</td>\n",
       "      <td>2382</td>\n",
       "      <td>633.485669</td>\n",
       "      <td>922.642857</td>\n",
       "      <td>770.0</td>\n",
       "      <td>11</td>\n",
       "      <td>0</td>\n",
       "      <td>1</td>\n",
       "      <td>consommation_level_4</td>\n",
       "      <td>2.0</td>\n",
       "    </tr>\n",
       "  </tbody>\n",
       "</table>\n",
       "<p>5 rows × 22 columns</p>\n",
       "</div>"
      ],
      "text/plain": [
       "           client_id  counter_number  counter_code  reading_remarque_min  \\\n",
       "0     train_Client_0         1335667           207                     6   \n",
       "1     train_Client_1          678902           203                     6   \n",
       "2    train_Client_10          572765           207                     6   \n",
       "3   train_Client_100            2078           413                     6   \n",
       "4  train_Client_1000           19575           207                     8   \n",
       "\n",
       "   reading_remarque_max  reading_remarque_std  reading_remarque_mean  \\\n",
       "0                     9              1.248192               6.971429   \n",
       "1                     9              1.377097               7.216216   \n",
       "2                     9              1.258955               7.055556   \n",
       "3                     9              0.670820               6.150000   \n",
       "4                     9              0.363137               8.857143   \n",
       "\n",
       "   reading_remarque_median  conso_level1_sum  conso_level2_sum  ...  \\\n",
       "0                      6.0             12334               370  ...   \n",
       "1                      6.0             20629                 0  ...   \n",
       "2                      6.0             14375               682  ...   \n",
       "3                      6.0                24                 0  ...   \n",
       "4                      9.0              9292              1468  ...   \n",
       "\n",
       "   conso_min  conso_max   conso_std  conso_mean  conso_median  tarif_type  \\\n",
       "0         38       1386  341.553930  362.971429         267.0          11   \n",
       "1        190       1207  197.935960  557.540541         520.0          11   \n",
       "2        188       3082  646.808386  836.500000         655.5          11   \n",
       "3          0         15    3.607011    1.200000           0.0          11   \n",
       "4        124       2382  633.485669  922.642857         770.0          11   \n",
       "\n",
       "   counter_statue counter_coefficient            palier_max nb_max_franchi  \n",
       "0               0                   1  consommation_level_2            2.0  \n",
       "1               0                   1  consommation_level_1           37.0  \n",
       "2               0                   1  consommation_level_2            1.0  \n",
       "3               0                   1  consommation_level_1            4.0  \n",
       "4               0                   1  consommation_level_4            2.0  \n",
       "\n",
       "[5 rows x 22 columns]"
      ]
     },
     "metadata": {},
     "output_type": "display_data"
    }
   ],
   "source": [
    "from functools import reduce\n",
    "\n",
    "dfs = [df_agg, df_mode, resultat]\n",
    "df_merged = reduce(lambda left, right: pd.merge(left, right, on='client_id', how='left'), dfs)\n",
    "df_merged.head()"
   ]
  },
  {
   "cell_type": "code",
   "execution_count": null,
   "id": "45d2714c",
   "metadata": {},
   "outputs": [],
   "source": [
    "from functools import reduce\n",
    "\n",
    "dfs1 = [df_agg1, df_mode1, resultat1]\n",
    "df_merged1 = reduce(lambda left, right: pd.merge(left, right, on='client_id', how='left'), dfs1)"
   ]
  },
  {
   "cell_type": "code",
   "execution_count": null,
   "id": "d5869c22",
   "metadata": {},
   "outputs": [],
   "source": [
    "df_client_train_final = pd.merge(df_client_train1, df_merged, on='client_id', how='right')"
   ]
  },
  {
   "cell_type": "code",
   "execution_count": null,
   "id": "84f20ae5",
   "metadata": {},
   "outputs": [],
   "source": [
    "df_client_test_final = pd.merge(df_client_test, df_merged1, on='client_id', how='right')"
   ]
  },
  {
   "cell_type": "code",
   "execution_count": null,
   "id": "fb57de84",
   "metadata": {},
   "outputs": [],
   "source": [
    "df_client_train_final = deplacer_colonnes(df_client_train_final, 'target',26)"
   ]
  },
  {
   "cell_type": "code",
   "execution_count": null,
   "id": "4a933659",
   "metadata": {},
   "outputs": [],
   "source": [
    "df_client_test_final = deplacer_colonnes(df_client_test_final, 'client_id',0)"
   ]
  }
 ],
 "metadata": {
  "kernelspec": {
   "display_name": "Python 3",
   "language": "python",
   "name": "python3"
  },
  "language_info": {
   "codemirror_mode": {
    "name": "ipython",
    "version": 3
   },
   "file_extension": ".py",
   "mimetype": "text/x-python",
   "name": "python",
   "nbconvert_exporter": "python",
   "pygments_lexer": "ipython3",
   "version": "3.12.9"
  }
 },
 "nbformat": 4,
 "nbformat_minor": 5
}
