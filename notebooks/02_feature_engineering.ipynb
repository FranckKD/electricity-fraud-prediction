{
 "cells": [
  {
   "cell_type": "markdown",
   "id": "f8cd1dd8",
   "metadata": {},
   "source": [
    "# FEATURE ENGINEERING\n",
    "## FEATURE CREATION"
   ]
  },
  {
   "cell_type": "code",
   "execution_count": 43,
   "id": "f229a2a2",
   "metadata": {},
   "outputs": [],
   "source": [
    "from zipfile import ZipFile\n",
    "from src.utils.helpers import convert_to_category, deplacer_colonnes, iqr\n",
    "from sklearn.preprocessing import OneHotEncoder\n",
    "import pandas as pd"
   ]
  },
  {
   "cell_type": "code",
   "execution_count": 2,
   "id": "bf3bd29f",
   "metadata": {},
   "outputs": [],
   "source": [
    "df_client = pd.read_csv('../data/processed/df_client_train_processed.csv')"
   ]
  },
  {
   "cell_type": "code",
   "execution_count": 3,
   "id": "ec2661db",
   "metadata": {},
   "outputs": [],
   "source": [
    "zip_path = \"../data/processed/df_transactions_train_processed.zip\"\n",
    "\n",
    "with ZipFile(zip_path, 'r') as zip_ref:\n",
    "    csv_filename = zip_ref.namelist()[0]\n",
    "    with zip_ref.open(csv_filename) as csv_file:\n",
    "        df_transactions = pd.read_csv(csv_file)"
   ]
  },
  {
   "cell_type": "code",
   "execution_count": 4,
   "id": "a9febbe0",
   "metadata": {},
   "outputs": [],
   "source": [
    "df_client_1 = df_client.copy()\n",
    "df_transactions_1 = df_transactions.copy()"
   ]
  },
  {
   "cell_type": "code",
   "execution_count": 5,
   "id": "f7276ab0",
   "metadata": {},
   "outputs": [],
   "source": [
    "df_client_1 = convert_to_category(df_client_1, ['district', 'client_catg', 'region'])\n",
    "df_transactions_1 = convert_to_category(df_transactions_1, ['tarif_type','counter_statue', 'counter_coefficient'])"
   ]
  },
  {
   "cell_type": "code",
   "execution_count": 6,
   "id": "498780ea",
   "metadata": {},
   "outputs": [],
   "source": [
    "df_client_1['creation_date'] = pd.to_datetime(df_client_1['creation_date'], format= 'mixed', dayfirst=True)\n",
    "df_transactions_1['invoice_date'] = pd.to_datetime(df_transactions_1['invoice_date'])"
   ]
  },
  {
   "cell_type": "code",
   "execution_count": 7,
   "id": "240de0a1",
   "metadata": {},
   "outputs": [],
   "source": [
    "df_transactions_1['lag_1'] = df_transactions_1.groupby('client_id')['consommation_total'].shift(1)"
   ]
  },
  {
   "cell_type": "code",
   "execution_count": 8,
   "id": "24b389b8",
   "metadata": {},
   "outputs": [],
   "source": [
    "df_transactions_1['variation_conso'] = ((df_transactions_1['consommation_total'] - df_transactions_1['lag_1'])/df_transactions_1['lag_1'])*100"
   ]
  },
  {
   "cell_type": "code",
   "execution_count": 9,
   "id": "701b72a6",
   "metadata": {},
   "outputs": [],
   "source": [
    "borne_inf, borne_sup = iqr(df_transactions_1, 'consommation_total')\n",
    "\n",
    "df_transactions_1['outlier_conso_total'] = ((df_transactions_1['consommation_total'] < borne_inf) | (df_transactions_1['consommation_total'] > borne_sup)).astype(int)\n",
    "\n",
    "borne_inf_var, borne_sup_var = iqr(df_transactions_1, 'variation_conso')\n",
    "\n",
    "df_transactions_1['outlier_variation'] = ((df_transactions_1['variation_conso'] < borne_inf_var) | (df_transactions_1['variation_conso'] > borne_sup_var)).astype(int)"
   ]
  },
  {
   "cell_type": "code",
   "execution_count": 10,
   "id": "fa80ad12",
   "metadata": {},
   "outputs": [],
   "source": [
    "df_transactions_1['is_null_conso'] = (df_transactions_1['consommation_total'] == 0).astype(int)"
   ]
  },
  {
   "cell_type": "code",
   "execution_count": 11,
   "id": "f7ca75a3",
   "metadata": {},
   "outputs": [],
   "source": [
    "df_transactions_1['part_conso_level_1'] = (df_transactions_1['consommation_level_1'] / df_transactions_1['consommation_total'])*100\n",
    "df_transactions_1['part_conso_level_2'] = (df_transactions_1['consommation_level_2'] / df_transactions_1['consommation_total'])*100\n",
    "df_transactions_1['part_conso_level_3'] = (df_transactions_1['consommation_level_3'] / df_transactions_1['consommation_total'])*100\n",
    "df_transactions_1['part_conso_level_4'] = (df_transactions_1['consommation_level_4'] / df_transactions_1['consommation_total'])*100"
   ]
  },
  {
   "cell_type": "code",
   "execution_count": 12,
   "id": "4ba1e238",
   "metadata": {},
   "outputs": [
    {
     "name": "stderr",
     "output_type": "stream",
     "text": [
      "C:\\Users\\djidj\\AppData\\Local\\Temp\\ipykernel_7040\\1237248556.py:1: FutureWarning: The behavior of DataFrame.idxmax with all-NA values, or any-NA and skipna=False, is deprecated. In a future version this will raise ValueError\n",
      "  df_transactions_1['dominant_level'] = df_transactions_1[['part_conso_level_1', 'part_conso_level_2', 'part_conso_level_3', 'part_conso_level_4']].idxmax(axis=1)\n"
     ]
    }
   ],
   "source": [
    "df_transactions_1['dominant_level'] = df_transactions_1[['part_conso_level_1', 'part_conso_level_2', 'part_conso_level_3', 'part_conso_level_4']].idxmax(axis=1)"
   ]
  },
  {
   "cell_type": "code",
   "execution_count": 13,
   "id": "ef532bed",
   "metadata": {},
   "outputs": [],
   "source": [
    "df_transactions_1['lag_level_1'] = df_transactions_1.groupby('client_id')['consommation_level_1'].shift(1)\n",
    "df_transactions_1['lag_level_2'] = df_transactions_1.groupby('client_id')['consommation_level_2'].shift(1)\n",
    "df_transactions_1['lag_level_3'] = df_transactions_1.groupby('client_id')['consommation_level_3'].shift(1)\n",
    "df_transactions_1['lag_level_4'] = df_transactions_1.groupby('client_id')['consommation_level_4'].shift(1)"
   ]
  },
  {
   "cell_type": "code",
   "execution_count": 14,
   "id": "3732f440",
   "metadata": {},
   "outputs": [],
   "source": [
    "df_transactions_1['variation_level_1'] = ((df_transactions_1['consommation_level_1'] - df_transactions_1['lag_level_1'])/df_transactions_1['lag_level_1'])*100\n",
    "df_transactions_1['variation_level_2'] = ((df_transactions_1['consommation_level_2'] - df_transactions_1['lag_level_2'])/df_transactions_1['lag_level_2'])*100\n",
    "df_transactions_1['variation_level_3'] = ((df_transactions_1['consommation_level_3'] - df_transactions_1['lag_level_3'])/df_transactions_1['lag_level_3'])*100\n",
    "df_transactions_1['variation_level_4'] = ((df_transactions_1['consommation_level_4'] - df_transactions_1['lag_level_4'])/df_transactions_1['lag_level_4'])*100"
   ]
  },
  {
   "cell_type": "code",
   "execution_count": 15,
   "id": "92f55ab7",
   "metadata": {},
   "outputs": [],
   "source": [
    "borne_inf_level_1, borne_sup_level_1 = iqr(df_transactions_1, 'consommation_level_1')\n",
    "borne_inf_level_2, borne_sup_level_2 = iqr(df_transactions_1, 'consommation_level_2')\n",
    "borne_inf_level_3, borne_sup_level_3 = iqr(df_transactions_1, 'consommation_level_3')\n",
    "borne_inf_level_4, borne_sup_level_4 = iqr(df_transactions_1, 'consommation_level_4')\n",
    "\n",
    "df_transactions_1['outlier_level_1'] = ((df_transactions_1['consommation_level_1'] < borne_inf_level_1) | (df_transactions_1['consommation_level_1'] > borne_sup_level_1)).astype(int)\n",
    "df_transactions_1['outlier_level_2'] = ((df_transactions_1['consommation_level_2'] < borne_inf_level_2) | (df_transactions_1['consommation_level_2'] > borne_sup_level_2)).astype(int)\n",
    "df_transactions_1['outlier_level_3'] = ((df_transactions_1['consommation_level_3'] < borne_inf_level_3) | (df_transactions_1['consommation_level_3'] > borne_sup_level_3)).astype(int)\n",
    "df_transactions_1['outlier_level_4'] = ((df_transactions_1['consommation_level_4'] < borne_inf_level_4) | (df_transactions_1['consommation_level_4'] > borne_sup_level_4)).astype(int)"
   ]
  },
  {
   "cell_type": "code",
   "execution_count": 16,
   "id": "5df5d00c",
   "metadata": {},
   "outputs": [
    {
     "name": "stderr",
     "output_type": "stream",
     "text": [
      "C:\\Users\\djidj\\AppData\\Local\\Packages\\PythonSoftwareFoundation.Python.3.12_qbz5n2kfra8p0\\LocalCache\\local-packages\\Python312\\site-packages\\numpy\\lib\\_function_base_impl.py:4653: RuntimeWarning: invalid value encountered in subtract\n",
      "  diff_b_a = subtract(b, a)\n",
      "C:\\Users\\djidj\\AppData\\Local\\Packages\\PythonSoftwareFoundation.Python.3.12_qbz5n2kfra8p0\\LocalCache\\local-packages\\Python312\\site-packages\\numpy\\lib\\_function_base_impl.py:4653: RuntimeWarning: invalid value encountered in subtract\n",
      "  diff_b_a = subtract(b, a)\n"
     ]
    }
   ],
   "source": [
    "borne_inf_var_level_1, borne_sup_var_level_1 = iqr(df_transactions_1, 'variation_level_1')\n",
    "borne_inf_var_level_2, borne_sup_var_level_2 = iqr(df_transactions_1, 'variation_level_2')\n",
    "borne_inf_var_level_3, borne_sup_var_level_3 = iqr(df_transactions_1, 'variation_level_3')\n",
    "borne_inf_var_level_4, borne_sup_var_level_4 = iqr(df_transactions_1, 'variation_level_4')\n",
    "\n",
    "df_transactions_1['outlier_var_level_1'] = ((df_transactions_1['variation_level_1'] < borne_inf_var_level_1) | (df_transactions_1['variation_level_1'] > borne_sup_var_level_1)).astype(int)\n",
    "df_transactions_1['outlier_var_level_2'] = ((df_transactions_1['variation_level_2'] < borne_inf_var_level_2) | (df_transactions_1['variation_level_2'] > borne_sup_var_level_2)).astype(int)\n",
    "df_transactions_1['outlier_var_level_3'] = ((df_transactions_1['variation_level_3'] < borne_inf_var_level_3) | (df_transactions_1['variation_level_3'] > borne_sup_var_level_3)).astype(int)\n",
    "df_transactions_1['outlier_var_level_4'] = ((df_transactions_1['variation_level_4'] < borne_inf_var_level_4) | (df_transactions_1['variation_level_4'] > borne_sup_var_level_4)).astype(int)"
   ]
  },
  {
   "cell_type": "code",
   "execution_count": 23,
   "id": "16090ab8",
   "metadata": {},
   "outputs": [],
   "source": [
    "df_transactions_1['is_reading_remarque_6'] = (df_transactions_1['reading_remarque'] == 6).astype(int)\n",
    "df_transactions_1['is_reading_remarque_7'] = (df_transactions_1['reading_remarque'] == 7).astype(int)\n",
    "df_transactions_1['is_reading_remarque_8'] = (df_transactions_1['reading_remarque'] == 8).astype(int)\n",
    "df_transactions_1['is_reading_remarque_9'] = (df_transactions_1['reading_remarque'] == 9).astype(int)"
   ]
  },
  {
   "cell_type": "code",
   "execution_count": 24,
   "id": "7929c0c8",
   "metadata": {},
   "outputs": [],
   "source": [
    "df_transactions_1['is_counter_coefficient_1'] = (df_transactions_1['counter_coefficient'] == 1).astype(int)\n",
    "df_transactions_1['is_counter_coefficient_20'] = (df_transactions_1['counter_coefficient'] == 20).astype(int)"
   ]
  },
  {
   "cell_type": "code",
   "execution_count": 25,
   "id": "aa18e219",
   "metadata": {},
   "outputs": [],
   "source": [
    "df_transactions_1 = convert_to_category(df_transactions_1, ['outlier_conso_total', 'outlier_variation', 'is_null_conso','dominant_level', \n",
    "                                                            'is_reading_remarque_6', 'is_reading_remarque_7', 'is_reading_remarque_8', 'is_reading_remarque_9', 'is_counter_coefficient_1', 'is_counter_coefficient_20'])"
   ]
  },
  {
   "cell_type": "code",
   "execution_count": 26,
   "id": "b69d23b2",
   "metadata": {},
   "outputs": [],
   "source": [
    "df_transactions_1['dominant_level'] = df_transactions_1['dominant_level'].cat.set_categories(['part_conso_level_1', 'part_conso_level_2', 'part_conso_level_3', 'part_conso_level_4'])\n",
    "df_transactions_1['dominant_level'] = df_transactions_1['dominant_level'].cat.rename_categories({'part_conso_level_1':1, 'part_conso_level_2':2, 'part_conso_level_3':3, 'part_conso_level_4':4})"
   ]
  },
  {
   "cell_type": "code",
   "execution_count": 27,
   "id": "1dab77f9",
   "metadata": {},
   "outputs": [],
   "source": [
    "encoder = OneHotEncoder(sparse_output=False, handle_unknown='ignore')\n",
    "cat_columns = ['tarif_type', 'counter_statue', 'counter_coefficient', 'outlier_conso_total', 'outlier_variation', 'is_null_conso', 'dominant_level', \n",
    "               'is_reading_remarque_6', 'is_reading_remarque_7', 'is_reading_remarque_8', 'is_reading_remarque_9', 'is_counter_coefficient_1', 'is_counter_coefficient_20']\n",
    "encoded = encoder.fit_transform(df_transactions_1[cat_columns])\n"
   ]
  },
  {
   "cell_type": "code",
   "execution_count": 28,
   "id": "8e793aac",
   "metadata": {},
   "outputs": [],
   "source": [
    "encoded_df = pd.DataFrame(encoded, columns=encoder.get_feature_names_out(cat_columns))\n",
    "\n",
    "df_transactions_final = pd.concat([df_transactions_1.drop(cat_columns, axis=1), encoded_df], axis=1)"
   ]
  },
  {
   "cell_type": "code",
   "execution_count": 29,
   "id": "c03b12d4",
   "metadata": {},
   "outputs": [
    {
     "data": {
      "text/plain": [
       "Index(['client_id', 'invoice_date', 'counter_number', 'counter_code',\n",
       "       'reading_remarque', 'consommation_level_1', 'consommation_level_2',\n",
       "       'consommation_level_3', 'consommation_level_4', 'old_index',\n",
       "       'new_index', 'months_number', 'consommation_total', 'conso_level',\n",
       "       'ecart', 'conso_incoherente', 'lag_1', 'variation_conso',\n",
       "       'part_conso_level_1', 'part_conso_level_2', 'part_conso_level_3',\n",
       "       'part_conso_level_4', 'lag_level_1', 'lag_level_2', 'lag_level_3',\n",
       "       'lag_level_4', 'variation_level_1', 'variation_level_2',\n",
       "       'variation_level_3', 'variation_level_4', 'outlier_level_1',\n",
       "       'outlier_level_2', 'outlier_level_3', 'outlier_level_4',\n",
       "       'outlier_var_level_1', 'outlier_var_level_2', 'outlier_var_level_3',\n",
       "       'outlier_var_level_4', 'tarif_type_9', 'tarif_type_10', 'tarif_type_11',\n",
       "       'tarif_type_12', 'tarif_type_13', 'tarif_type_14', 'tarif_type_15',\n",
       "       'tarif_type_18', 'tarif_type_21', 'tarif_type_24', 'tarif_type_29',\n",
       "       'counter_statue_0', 'counter_statue_1', 'counter_statue_2',\n",
       "       'counter_statue_3', 'counter_statue_4', 'counter_statue_5',\n",
       "       'counter_coefficient_1', 'counter_coefficient_20',\n",
       "       'outlier_conso_total_0', 'outlier_conso_total_1', 'outlier_variation_0',\n",
       "       'outlier_variation_1', 'is_null_conso_0', 'is_null_conso_1',\n",
       "       'dominant_level_1.0', 'dominant_level_2.0', 'dominant_level_3.0',\n",
       "       'dominant_level_4.0', 'dominant_level_nan', 'is_reading_remarque_6_0',\n",
       "       'is_reading_remarque_6_1', 'is_reading_remarque_7_0',\n",
       "       'is_reading_remarque_7_1', 'is_reading_remarque_8_0',\n",
       "       'is_reading_remarque_8_1', 'is_reading_remarque_9_0',\n",
       "       'is_reading_remarque_9_1', 'is_counter_coefficient_1_0',\n",
       "       'is_counter_coefficient_1_1', 'is_counter_coefficient_20_0',\n",
       "       'is_counter_coefficient_20_1'],\n",
       "      dtype='object')"
      ]
     },
     "execution_count": 29,
     "metadata": {},
     "output_type": "execute_result"
    }
   ],
   "source": [
    "df_transactions_final.columns"
   ]
  },
  {
   "cell_type": "code",
   "execution_count": 34,
   "id": "133417cb",
   "metadata": {},
   "outputs": [],
   "source": [
    "df_agg = df_transactions_final.groupby('client_id').agg(\n",
    "    last_invoice_date = pd.NamedAgg(column='invoice_date', aggfunc='max'),\n",
    "    counter_number = pd.NamedAgg(column='counter_number', aggfunc='max'),\n",
    "    counter_code = pd.NamedAgg(column='counter_code', aggfunc='max'),\n",
    "    reading_remarque_6 = pd.NamedAgg(column='is_reading_remarque_6_1', aggfunc='sum'),\n",
    "    reading_remarque_7 = pd.NamedAgg(column='is_reading_remarque_7_1', aggfunc='sum'),\n",
    "    reading_remarque_8 = pd.NamedAgg(column='is_reading_remarque_8_1', aggfunc='sum'),\n",
    "    reading_remarque_9 = pd.NamedAgg(column='is_reading_remarque_9_1', aggfunc='sum'),\n",
    "    reading_remarque_min = pd.NamedAgg(column='reading_remarque', aggfunc='min'),\n",
    "    reading_remarque_max = pd.NamedAgg(column='reading_remarque', aggfunc='max'),\n",
    "    reading_remarque_std = pd.NamedAgg(column='reading_remarque', aggfunc='std'),\n",
    "    reading_remarque_mean = pd.NamedAgg(column='reading_remarque', aggfunc='mean'),\n",
    "    reading_remarque_median = pd.NamedAgg(column='reading_remarque', aggfunc='median'),\n",
    "    part_conso_level_1_min = pd.NamedAgg(column='part_conso_level_1', aggfunc='min'),\n",
    "    part_conso_level_1_max = pd.NamedAgg(column='part_conso_level_1', aggfunc='max'),\n",
    "    part_conso_level_1_std = pd.NamedAgg(column='part_conso_level_1', aggfunc='std'),\n",
    "    part_conso_level_1_mean = pd.NamedAgg(column='part_conso_level_1', aggfunc='mean'),\n",
    "    part_conso_level_1_median = pd.NamedAgg(column='part_conso_level_1', aggfunc='median'),\n",
    "    part_conso_level_2_min = pd.NamedAgg(column='part_conso_level_2', aggfunc='min'),\n",
    "    part_conso_level_2_max = pd.NamedAgg(column='part_conso_level_2', aggfunc='max'),\n",
    "    part_conso_level_2_std = pd.NamedAgg(column='part_conso_level_2', aggfunc='std'),\n",
    "    part_conso_level_2_mean = pd.NamedAgg(column='part_conso_level_2', aggfunc='mean'),\n",
    "    part_conso_level_2_median = pd.NamedAgg(column='part_conso_level_2', aggfunc='median'),\n",
    "    part_conso_level_3_min = pd.NamedAgg(column='part_conso_level_3', aggfunc='min'),\n",
    "    part_conso_level_3_max = pd.NamedAgg(column='part_conso_level_3', aggfunc='max'),\n",
    "    part_conso_level_3_std = pd.NamedAgg(column='part_conso_level_3', aggfunc='std'),\n",
    "    part_conso_level_3_mean = pd.NamedAgg(column='part_conso_level_3', aggfunc='mean'),\n",
    "    part_conso_level_3_median = pd.NamedAgg(column='part_conso_level_3', aggfunc='median'),\n",
    "    part_conso_level_4_min = pd.NamedAgg(column='part_conso_level_4', aggfunc='min'),\n",
    "    part_conso_level_4_max = pd.NamedAgg(column='part_conso_level_4', aggfunc='max'),\n",
    "    part_conso_level_4_std = pd.NamedAgg(column='part_conso_level_4', aggfunc='std'),\n",
    "    part_conso_level_4_mean = pd.NamedAgg(column='part_conso_level_4', aggfunc='mean'),\n",
    "    part_conso_level_4_median = pd.NamedAgg(column='part_conso_level_4', aggfunc='median'),\n",
    "    conso_level_1_sum = pd.NamedAgg(column='consommation_level_1', aggfunc='sum'),\n",
    "    conso_level_2_sum = pd.NamedAgg(column='consommation_level_2', aggfunc='sum'),\n",
    "    conso_level_3_sum = pd.NamedAgg(column='consommation_level_3', aggfunc='sum'),\n",
    "    conso_level_4_sum = pd.NamedAgg(column='consommation_level_4', aggfunc='sum'),\n",
    "    conso_level_1_min = pd.NamedAgg(column='consommation_level_1', aggfunc='min'),\n",
    "    conso_level_1_max = pd.NamedAgg(column='consommation_level_1', aggfunc='max'),\n",
    "    conso_level_1_std = pd.NamedAgg(column='consommation_level_1', aggfunc='std'),\n",
    "    conso_level_1_mean = pd.NamedAgg(column='consommation_level_1', aggfunc='mean'),\n",
    "    conso_level_1_median = pd.NamedAgg(column='consommation_level_1', aggfunc='median'),\n",
    "    conso_level_2_min = pd.NamedAgg(column='consommation_level_2', aggfunc='min'),\n",
    "    conso_level_2_max = pd.NamedAgg(column='consommation_level_2', aggfunc='max'),\n",
    "    conso_level_2_std = pd.NamedAgg(column='consommation_level_2', aggfunc='std'),\n",
    "    conso_level_2_mean = pd.NamedAgg(column='consommation_level_2', aggfunc='mean'),\n",
    "    conso_level_2_median = pd.NamedAgg(column='consommation_level_2', aggfunc='median'),\n",
    "    conso_level_3_min = pd.NamedAgg(column='consommation_level_3', aggfunc='min'),\n",
    "    conso_level_3_max = pd.NamedAgg(column='consommation_level_3', aggfunc='max'),\n",
    "    conso_level_3_std = pd.NamedAgg(column='consommation_level_3', aggfunc='std'),\n",
    "    conso_level_3_mean = pd.NamedAgg(column='consommation_level_3', aggfunc='mean'),\n",
    "    conso_level_3_median = pd.NamedAgg(column='consommation_level_3', aggfunc='median'),\n",
    "    conso_level_4_min = pd.NamedAgg(column='consommation_level_4', aggfunc='min'),\n",
    "    conso_level_4_max = pd.NamedAgg(column='consommation_level_4', aggfunc='max'),\n",
    "    conso_level_4_std = pd.NamedAgg(column='consommation_level_4', aggfunc='std'),\n",
    "    conso_level_4_mean = pd.NamedAgg(column='consommation_level_4', aggfunc='mean'),\n",
    "    conso_level_4_median = pd.NamedAgg(column='consommation_level_4', aggfunc='median'),\n",
    "    conso_level_1_var_min = pd.NamedAgg(column='variation_level_1', aggfunc='min'),\n",
    "    conso_level_1_var_max = pd.NamedAgg(column='variation_level_1', aggfunc='max'),\n",
    "    conso_level_1_var_std = pd.NamedAgg(column='variation_level_1', aggfunc='std'),\n",
    "    conso_level_1_var_mean = pd.NamedAgg(column='variation_level_1', aggfunc='mean'),\n",
    "    conso_level_1_var_median = pd.NamedAgg(column='variation_level_1', aggfunc='median'),\n",
    "    conso_level_2_var_min = pd.NamedAgg(column='variation_level_2', aggfunc='min'),\n",
    "    conso_level_2_var_max = pd.NamedAgg(column='variation_level_2', aggfunc='max'),\n",
    "    conso_level_2_var_std = pd.NamedAgg(column='variation_level_2', aggfunc='std'),\n",
    "    conso_level_2_var_mean = pd.NamedAgg(column='variation_level_2', aggfunc='mean'),\n",
    "    conso_level_2_var_median = pd.NamedAgg(column='variation_level_2', aggfunc='median'),\n",
    "    conso_level_3_var_min = pd.NamedAgg(column='variation_level_3', aggfunc='min'),\n",
    "    conso_level_3_var_max = pd.NamedAgg(column='variation_level_3', aggfunc='max'),\n",
    "    conso_level_3_var_std = pd.NamedAgg(column='variation_level_3', aggfunc='std'),\n",
    "    conso_level_3_var_mean = pd.NamedAgg(column='variation_level_3', aggfunc='mean'),\n",
    "    conso_level_3_var_median = pd.NamedAgg(column='variation_level_3', aggfunc='median'),\n",
    "    conso_level_4_var_min = pd.NamedAgg(column='variation_level_4', aggfunc='min'),\n",
    "    conso_level_4_var_max = pd.NamedAgg(column='variation_level_4', aggfunc='max'),\n",
    "    conso_level_4_var_std = pd.NamedAgg(column='variation_level_4', aggfunc='std'),\n",
    "    conso_level_4_var_mean = pd.NamedAgg(column='variation_level_4', aggfunc='mean'),\n",
    "    conso_level_4_var_median = pd.NamedAgg(column='variation_level_4', aggfunc='median'),\n",
    "    nbre_outlier_conso_level_1 = pd.NamedAgg(column='outlier_level_1', aggfunc='sum'),\n",
    "    nbre_outlier_conso_level_2 = pd.NamedAgg(column='outlier_level_2', aggfunc='sum'),\n",
    "    nbre_outlier_conso_level_3 = pd.NamedAgg(column='outlier_level_3', aggfunc='sum'),\n",
    "    nbre_outlier_conso_level_4 = pd.NamedAgg(column='outlier_level_4', aggfunc='sum'),\n",
    "    nbre_outlier_conso_var_level_1 = pd.NamedAgg(column='outlier_var_level_1', aggfunc='sum'),\n",
    "    nbre_outlier_conso_var_level_2 = pd.NamedAgg(column='outlier_var_level_2', aggfunc='sum'),\n",
    "    nbre_outlier_conso_var_level_3 = pd.NamedAgg(column='outlier_var_level_3', aggfunc='sum'),\n",
    "    nbre_outlier_conso_var_level_4 = pd.NamedAgg(column='outlier_var_level_4', aggfunc='sum'),\n",
    "    conso_sum = pd.NamedAgg(column='consommation_total', aggfunc='sum'),\n",
    "    conso_min = pd.NamedAgg(column='consommation_total', aggfunc='min'),\n",
    "    conso_max = pd.NamedAgg(column='consommation_total', aggfunc='max'),\n",
    "    conso_std = pd.NamedAgg(column='consommation_total', aggfunc='std'),\n",
    "    conso_mean = pd.NamedAgg(column='consommation_total', aggfunc='mean'),\n",
    "    conso_median = pd.NamedAgg(column='consommation_total', aggfunc='median'),\n",
    "    nbre_outlier_conso = pd.NamedAgg(column='outlier_conso_total_1', aggfunc='sum'),\n",
    "    conso_var_min = pd.NamedAgg(column='variation_conso', aggfunc='min'),\n",
    "    conso_var_max = pd.NamedAgg(column='variation_conso', aggfunc='max'),\n",
    "    conso_var_std = pd.NamedAgg(column='variation_conso', aggfunc='std'),\n",
    "    conso_var_mean = pd.NamedAgg(column='variation_conso', aggfunc='mean'),\n",
    "    conso_var_median = pd.NamedAgg(column='variation_conso', aggfunc='median'),\n",
    "    nbre_outlier_var_conso = pd.NamedAgg(column='outlier_variation_1', aggfunc='sum'),\n",
    "    is_tarif_type_9 = pd.NamedAgg(column='tarif_type_9', aggfunc='sum'),\n",
    "    is_tarif_type_10 = pd.NamedAgg(column='tarif_type_10', aggfunc='sum'),\n",
    "    is_tarif_type_11 = pd.NamedAgg(column='tarif_type_11', aggfunc='sum'),\n",
    "    is_tarif_type_12 = pd.NamedAgg(column='tarif_type_12', aggfunc='sum'),\n",
    "    is_tarif_type_13 = pd.NamedAgg(column='tarif_type_13', aggfunc='sum'),\n",
    "    is_tarif_type_14 = pd.NamedAgg(column='tarif_type_14', aggfunc='sum'),\n",
    "    is_tarif_type_15 = pd.NamedAgg(column='tarif_type_15', aggfunc='sum'),\n",
    "    is_tarif_type_18 = pd.NamedAgg(column='tarif_type_18', aggfunc='sum'),\n",
    "    is_tarif_type_21 = pd.NamedAgg(column='tarif_type_21', aggfunc='sum'),\n",
    "    is_tarif_type_24 = pd.NamedAgg(column='tarif_type_24', aggfunc='sum'),\n",
    "    is_tarif_type_29 = pd.NamedAgg(column='tarif_type_29', aggfunc='sum'),\n",
    "    is_counter_statue_0 = pd.NamedAgg(column='counter_statue_0', aggfunc='sum'),\n",
    "    is_counter_statue_1 = pd.NamedAgg(column='counter_statue_1', aggfunc='sum'),\n",
    "    is_counter_statue_2 = pd.NamedAgg(column='counter_statue_2', aggfunc='sum'),\n",
    "    is_counter_statue_3 = pd.NamedAgg(column='counter_statue_3', aggfunc='sum'),\n",
    "    is_counter_statue_4 = pd.NamedAgg(column='counter_statue_4', aggfunc='sum'),\n",
    "    is_counter_statue_5 = pd.NamedAgg(column='counter_statue_5', aggfunc='sum'),\n",
    "    is_counter_coefficient_1 = pd.NamedAgg(column='counter_coefficient_1', aggfunc='sum'),\n",
    "    is_counter_coefficient_20 = pd.NamedAgg(column='counter_coefficient_20', aggfunc='sum'),\n",
    "    is_conso_null = pd.NamedAgg(column='is_null_conso_1', aggfunc='sum'),\n",
    "    dominant_level_1 = pd.NamedAgg(column='dominant_level_1.0', aggfunc='sum'),\n",
    "    dominant_level_2 = pd.NamedAgg(column='dominant_level_2.0', aggfunc='sum'),\n",
    "    dominant_level_3 = pd.NamedAgg(column='dominant_level_3.0', aggfunc='sum'),\n",
    "    dominant_level_4 = pd.NamedAgg(column='dominant_level_4.0', aggfunc='sum')\n",
    "    ).reset_index()"
   ]
  },
  {
   "cell_type": "code",
   "execution_count": 35,
   "id": "e8e7e4f4",
   "metadata": {},
   "outputs": [],
   "source": [
    "df_train_merged = pd.merge(df_client, df_agg, on='client_id', how='right')"
   ]
  },
  {
   "cell_type": "code",
   "execution_count": null,
   "id": "54975410",
   "metadata": {},
   "outputs": [],
   "source": [
    "df_train_merged['last_invoice_date'] = pd.to_datetime(df_train_merged['last_invoice_date'])\n",
    "df_train_merged['creation_date'] = pd.to_datetime(df_train_merged['creation_date'])\n",
    "df_train_merged['seniority'] = (df_train_merged['last_invoice_date'] - df_train_merged['creation_date']).dt.days\n"
   ]
  },
  {
   "cell_type": "code",
   "execution_count": 45,
   "id": "3d2b4ae3",
   "metadata": {},
   "outputs": [],
   "source": [
    "df_train_merged = deplacer_colonnes(df_train_merged, 'target',127)"
   ]
  },
  {
   "cell_type": "code",
   "execution_count": 46,
   "id": "3b5f7fc5",
   "metadata": {},
   "outputs": [
    {
     "data": {
      "text/html": [
       "<div>\n",
       "<style scoped>\n",
       "    .dataframe tbody tr th:only-of-type {\n",
       "        vertical-align: middle;\n",
       "    }\n",
       "\n",
       "    .dataframe tbody tr th {\n",
       "        vertical-align: top;\n",
       "    }\n",
       "\n",
       "    .dataframe thead th {\n",
       "        text-align: right;\n",
       "    }\n",
       "</style>\n",
       "<table border=\"1\" class=\"dataframe\">\n",
       "  <thead>\n",
       "    <tr style=\"text-align: right;\">\n",
       "      <th></th>\n",
       "      <th>client_id</th>\n",
       "      <th>district</th>\n",
       "      <th>client_catg</th>\n",
       "      <th>region</th>\n",
       "      <th>creation_date</th>\n",
       "      <th>last_invoice_date</th>\n",
       "      <th>counter_number</th>\n",
       "      <th>counter_code</th>\n",
       "      <th>reading_remarque_6</th>\n",
       "      <th>reading_remarque_7</th>\n",
       "      <th>...</th>\n",
       "      <th>is_counter_statue_5</th>\n",
       "      <th>is_counter_coefficient_1</th>\n",
       "      <th>is_counter_coefficient_20</th>\n",
       "      <th>is_conso_null</th>\n",
       "      <th>dominant_level_1</th>\n",
       "      <th>dominant_level_2</th>\n",
       "      <th>dominant_level_3</th>\n",
       "      <th>dominant_level_4</th>\n",
       "      <th>seniority</th>\n",
       "      <th>target</th>\n",
       "    </tr>\n",
       "  </thead>\n",
       "  <tbody>\n",
       "    <tr>\n",
       "      <th>0</th>\n",
       "      <td>train_Client_0</td>\n",
       "      <td>60</td>\n",
       "      <td>11</td>\n",
       "      <td>101</td>\n",
       "      <td>1994-12-31</td>\n",
       "      <td>2019-03-19</td>\n",
       "      <td>1335667</td>\n",
       "      <td>207</td>\n",
       "      <td>21.0</td>\n",
       "      <td>0.0</td>\n",
       "      <td>...</td>\n",
       "      <td>0.0</td>\n",
       "      <td>35.0</td>\n",
       "      <td>0.0</td>\n",
       "      <td>0.0</td>\n",
       "      <td>35.0</td>\n",
       "      <td>0.0</td>\n",
       "      <td>0.0</td>\n",
       "      <td>0.0</td>\n",
       "      <td>8844</td>\n",
       "      <td>0.0</td>\n",
       "    </tr>\n",
       "    <tr>\n",
       "      <th>1</th>\n",
       "      <td>train_Client_1</td>\n",
       "      <td>69</td>\n",
       "      <td>11</td>\n",
       "      <td>107</td>\n",
       "      <td>2002-05-29</td>\n",
       "      <td>2019-04-02</td>\n",
       "      <td>678902</td>\n",
       "      <td>203</td>\n",
       "      <td>20.0</td>\n",
       "      <td>0.0</td>\n",
       "      <td>...</td>\n",
       "      <td>0.0</td>\n",
       "      <td>37.0</td>\n",
       "      <td>0.0</td>\n",
       "      <td>0.0</td>\n",
       "      <td>37.0</td>\n",
       "      <td>0.0</td>\n",
       "      <td>0.0</td>\n",
       "      <td>0.0</td>\n",
       "      <td>6152</td>\n",
       "      <td>0.0</td>\n",
       "    </tr>\n",
       "    <tr>\n",
       "      <th>2</th>\n",
       "      <td>train_Client_10</td>\n",
       "      <td>62</td>\n",
       "      <td>11</td>\n",
       "      <td>301</td>\n",
       "      <td>1986-03-13</td>\n",
       "      <td>2019-05-02</td>\n",
       "      <td>572765</td>\n",
       "      <td>207</td>\n",
       "      <td>10.0</td>\n",
       "      <td>0.0</td>\n",
       "      <td>...</td>\n",
       "      <td>0.0</td>\n",
       "      <td>18.0</td>\n",
       "      <td>0.0</td>\n",
       "      <td>0.0</td>\n",
       "      <td>18.0</td>\n",
       "      <td>0.0</td>\n",
       "      <td>0.0</td>\n",
       "      <td>0.0</td>\n",
       "      <td>12103</td>\n",
       "      <td>0.0</td>\n",
       "    </tr>\n",
       "    <tr>\n",
       "      <th>3</th>\n",
       "      <td>train_Client_100</td>\n",
       "      <td>69</td>\n",
       "      <td>11</td>\n",
       "      <td>105</td>\n",
       "      <td>1996-07-11</td>\n",
       "      <td>2012-09-25</td>\n",
       "      <td>2078</td>\n",
       "      <td>413</td>\n",
       "      <td>19.0</td>\n",
       "      <td>0.0</td>\n",
       "      <td>...</td>\n",
       "      <td>0.0</td>\n",
       "      <td>20.0</td>\n",
       "      <td>0.0</td>\n",
       "      <td>16.0</td>\n",
       "      <td>4.0</td>\n",
       "      <td>0.0</td>\n",
       "      <td>0.0</td>\n",
       "      <td>0.0</td>\n",
       "      <td>5920</td>\n",
       "      <td>0.0</td>\n",
       "    </tr>\n",
       "    <tr>\n",
       "      <th>4</th>\n",
       "      <td>train_Client_1000</td>\n",
       "      <td>62</td>\n",
       "      <td>11</td>\n",
       "      <td>303</td>\n",
       "      <td>2014-10-14</td>\n",
       "      <td>2019-06-17</td>\n",
       "      <td>19575</td>\n",
       "      <td>207</td>\n",
       "      <td>0.0</td>\n",
       "      <td>0.0</td>\n",
       "      <td>...</td>\n",
       "      <td>0.0</td>\n",
       "      <td>14.0</td>\n",
       "      <td>0.0</td>\n",
       "      <td>0.0</td>\n",
       "      <td>14.0</td>\n",
       "      <td>0.0</td>\n",
       "      <td>0.0</td>\n",
       "      <td>0.0</td>\n",
       "      <td>1707</td>\n",
       "      <td>0.0</td>\n",
       "    </tr>\n",
       "  </tbody>\n",
       "</table>\n",
       "<p>5 rows × 128 columns</p>\n",
       "</div>"
      ],
      "text/plain": [
       "           client_id  district  client_catg  region creation_date  \\\n",
       "0     train_Client_0        60           11     101    1994-12-31   \n",
       "1     train_Client_1        69           11     107    2002-05-29   \n",
       "2    train_Client_10        62           11     301    1986-03-13   \n",
       "3   train_Client_100        69           11     105    1996-07-11   \n",
       "4  train_Client_1000        62           11     303    2014-10-14   \n",
       "\n",
       "  last_invoice_date  counter_number  counter_code  reading_remarque_6  \\\n",
       "0        2019-03-19         1335667           207                21.0   \n",
       "1        2019-04-02          678902           203                20.0   \n",
       "2        2019-05-02          572765           207                10.0   \n",
       "3        2012-09-25            2078           413                19.0   \n",
       "4        2019-06-17           19575           207                 0.0   \n",
       "\n",
       "   reading_remarque_7  ...  is_counter_statue_5  is_counter_coefficient_1  \\\n",
       "0                 0.0  ...                  0.0                      35.0   \n",
       "1                 0.0  ...                  0.0                      37.0   \n",
       "2                 0.0  ...                  0.0                      18.0   \n",
       "3                 0.0  ...                  0.0                      20.0   \n",
       "4                 0.0  ...                  0.0                      14.0   \n",
       "\n",
       "   is_counter_coefficient_20  is_conso_null  dominant_level_1  \\\n",
       "0                        0.0            0.0              35.0   \n",
       "1                        0.0            0.0              37.0   \n",
       "2                        0.0            0.0              18.0   \n",
       "3                        0.0           16.0               4.0   \n",
       "4                        0.0            0.0              14.0   \n",
       "\n",
       "   dominant_level_2  dominant_level_3  dominant_level_4  seniority  target  \n",
       "0               0.0               0.0               0.0       8844     0.0  \n",
       "1               0.0               0.0               0.0       6152     0.0  \n",
       "2               0.0               0.0               0.0      12103     0.0  \n",
       "3               0.0               0.0               0.0       5920     0.0  \n",
       "4               0.0               0.0               0.0       1707     0.0  \n",
       "\n",
       "[5 rows x 128 columns]"
      ]
     },
     "execution_count": 46,
     "metadata": {},
     "output_type": "execute_result"
    }
   ],
   "source": [
    "df_train_merged.head()"
   ]
  },
  {
   "cell_type": "markdown",
   "id": "1519d0d4",
   "metadata": {},
   "source": [
    "## FEATURES EDA"
   ]
  },
  {
   "cell_type": "code",
   "execution_count": null,
   "id": "1ea39eac",
   "metadata": {},
   "outputs": [],
   "source": []
  }
 ],
 "metadata": {
  "kernelspec": {
   "display_name": "Python 3",
   "language": "python",
   "name": "python3"
  },
  "language_info": {
   "codemirror_mode": {
    "name": "ipython",
    "version": 3
   },
   "file_extension": ".py",
   "mimetype": "text/x-python",
   "name": "python",
   "nbconvert_exporter": "python",
   "pygments_lexer": "ipython3",
   "version": "3.12.9"
  }
 },
 "nbformat": 4,
 "nbformat_minor": 5
}
